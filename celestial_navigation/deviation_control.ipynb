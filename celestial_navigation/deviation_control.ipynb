{
 "cells": [
  {
   "cell_type": "code",
   "execution_count": 1,
   "id": "4bcbd631-cdb6-40ab-aaf2-93bb975b0df7",
   "metadata": {},
   "outputs": [],
   "source": [
    "import os, sys\n",
    "\n",
    "# add custom modules and astro data path \n",
    "pp = '../nav_tools/'\n",
    "sys.path.append(pp)\n",
    "\n",
    "import celestialdata as cdata\n",
    "cd = cdata.CelestialData(pp)"
   ]
  },
  {
   "cell_type": "code",
   "execution_count": 2,
   "id": "930cca83-e064-4f31-a1d8-c2e81ed6982d",
   "metadata": {},
   "outputs": [
    {
     "name": "stdout",
     "output_type": "stream",
     "text": [
      "Compass deviation:\n",
      "  -> gyro:       -1.24 deg\n",
      "  -> magnetic:   -2.78 deg\n"
     ]
    }
   ],
   "source": [
    "date = [2023,8,18]\n",
    "pos = [45,15,20]\n",
    "time = [4,10,15]\n",
    "\n",
    "w_gyro = 72.5 # arc deg\n",
    "w_mag =  73.2 # arc deg\n",
    "var =    50.0 # arc min\n",
    "\n",
    "sun_data = cd.get_sun_data(date, time, pos)\n",
    "w_true = sun_data['wc']\n",
    "\n",
    "dw_gyro = w_true - w_gyro\n",
    "dw_mag = w_true - w_mag - var/60\n",
    "\n",
    "print('Compass deviation:')\n",
    "print('  -> gyro:     {:7.2f} deg'.format(dw_gyro))\n",
    "print('  -> magnetic: {:7.2f} deg'.format(dw_mag))"
   ]
  },
  {
   "cell_type": "code",
   "execution_count": null,
   "id": "14696d8d-5e02-4139-b49d-f6a8081ef296",
   "metadata": {},
   "outputs": [],
   "source": []
  }
 ],
 "metadata": {
  "kernelspec": {
   "display_name": "Python 3 (default)",
   "language": "python",
   "name": "python3"
  },
  "language_info": {
   "codemirror_mode": {
    "name": "ipython",
    "version": 3
   },
   "file_extension": ".py",
   "mimetype": "text/x-python",
   "name": "python",
   "nbconvert_exporter": "python",
   "pygments_lexer": "ipython3",
   "version": "3.11.4"
  }
 },
 "nbformat": 4,
 "nbformat_minor": 5
}
