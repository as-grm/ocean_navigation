{
 "cells": [
  {
   "cell_type": "markdown",
   "id": "c8d3f9f7-4256-4c19-bae5-3d3512caca69",
   "metadata": {},
   "source": [
    "# Seznam vidnih astronomskih objektov\n",
    "\n",
    "Program izdela seznam vseh vidnih navigacijskih astronoskih objektov z njihovimi karakterističnimi podatki.\n",
    "\n",
    "Vhodni podatki so:\n",
    "- **položaj**\n",
    "- **čas meritve**\n",
    "\n",
    "Položaje vnašamo v obliki, kot je v navtiki dogovor \n",
    "\n",
    "$\\varphi = \\#\\#^\\circ \\, \\#\\#.\\#' \\, \\mathrm{N/S}$, $\\lambda = \\#\\#\\#^\\circ \\, \\#\\#.\\#' \\, \\mathrm{E/W}$, \n",
    "\n",
    "kjer imamo stopinje kot celo število in minute kot število na 1 decimalno mesto natančno.\n",
    "\n",
    "Format vnosa položaja:\n",
    "- LAT-$\\varphi$ in LONG-$\\lambda$ vnašamo v formatu [stopinje, minute, stran neba]\n",
    "\n",
    "Primer vnosa položaja:\n",
    "- $\\varphi$: [12, 34.5, 'N']\n",
    "- $\\lambda$: [117, 12.6, 'W']\n",
    "- stran neba mora biti v **enojnih navednicah**, kjer so dovoljeni znaki 'N', 'S', 'E', 'W'\n",
    "\n",
    "Čas meritve zapišemo v obliki\n",
    "- datum: *date*=[day,month,year]\n",
    "- ura: *time*=[hour,minutes, seconds]\n",
    "\n",
    "Izhodni podatki:\n",
    "- **ime objekta**\n",
    "- **računana višina** - $h$\n",
    "- **računani azimut** - $\\omega$\n",
    "- **deklinacija** - $\\delta$\n",
    "- **grenvični časovni kot** - Gha (za zvezdo je vsota med Gha pomladišča in Sha)\n",
    "- **siderični časovni kot** - Sha (samo zvezde)"
   ]
  },
  {
   "cell_type": "code",
   "execution_count": 1,
   "id": "remarkable-clone",
   "metadata": {},
   "outputs": [],
   "source": [
    "import os, sys\n",
    "import subprocess as sp\n",
    "\n",
    "# add custom modules and astro data path \n",
    "pp = '../nav_tools/'\n",
    "sys.path.append(pp)\n",
    "\n",
    "# needed by basemap\n",
    "os.environ['PROJ_LIB'] = '/opt/miniconda3/envs/astrolab/share/proj'"
   ]
  },
  {
   "cell_type": "code",
   "execution_count": 2,
   "id": "lesser-christianity",
   "metadata": {},
   "outputs": [],
   "source": [
    "import numpy as np\n",
    "import matplotlib.pyplot as mpl\n",
    "mpl.rcParams['text.usetex'] = True\n",
    "mpl.rcParams.update({'font.size': 7})\n",
    "\n",
    "import celestialdata as cdata\n",
    "import navigationalstars as ns\n",
    "import navtools as nt"
   ]
  },
  {
   "cell_type": "code",
   "execution_count": 3,
   "id": "445ca8d3",
   "metadata": {},
   "outputs": [],
   "source": [
    "def findVisibleObjects(date, time, pos, h0, h1, obj_data):\n",
    "        \n",
    "    vs = []\n",
    "    for obj in obj_data:\n",
    "        if obj['hc'] > h0 and obj['hc'] < h1:\n",
    "            vs.append({'name':obj['name'], 'alt':obj['hc'], 'az':obj['wc'], 'dec':obj['dec'], 'gha':obj['gha'], 'sha':obj['sha']})\n",
    "    \n",
    "    return vs"
   ]
  },
  {
   "cell_type": "code",
   "execution_count": 43,
   "id": "7738523a-9343-41ff-94cf-c3e7fceff77d",
   "metadata": {},
   "outputs": [],
   "source": [
    "def generateLatexInput(date,time,pos,stars,gha_a,obs_h,h0,h1):\n",
    "    \n",
    "    fo = open('body.tex','w')\n",
    "    \n",
    "    str_fi = r\"$\\varphi={:02d}^\\circ \\, {:04.1f}' \\, \\mathrm{{{:s}}}$\".format(pos[0][0],pos[0][1],pos[0][2])\n",
    "    str_la = r\"$\\lambda={:03d}^\\circ \\, {:04.1f}' \\, \\mathrm{{{:s}}}$\".format(pos[1][0],pos[1][1],pos[1][2])\n",
    "    \n",
    "    fo.write(r'\\textbf{{Position}}: {:s}, {:s}\\\\[2mm]'.format(str_fi, str_la)); fo.write('\\n')\n",
    "    fo.write(r'\\textbf{{Date}} ({{\\footnotesize dd/mm/yyyy}}): {:02d}/{:02d}/{:04d}\\\\[2mm]'.format(date[0],date[1],date[2])); fo.write('\\n')\n",
    "    fo.write(r'\\textbf{{Time}}: {:02d}:{:02d}:{:02d}\\\\[2mm]'.format(time[0],time[1],time[2])); fo.write('\\n')\n",
    "    \n",
    "    gha_a_dm = nt.dd2dms(gha_a)\n",
    "    str_gha_a = r\"${:02d}^\\circ \\, {:04.1f}'$\".format(int(gha_a_dm[0]), gha_a_dm[1])\n",
    "    fo.write(r'$\\textbf{{\\textsc{{Gha}}}}_{{\\aries}}:$ {:s}\\\\[2mm]'.format(str_gha_a)); fo.write('\\n')\n",
    "    fo.write(r'\\textbf{{Altitude limit}}: $h_{{\\mathrm{{min}}}}={:02d}^\\circ$; $h_{{\\mathrm{{\\max}}}}={:02d}^\\circ$\\\\'.format(int(h0),int(h1))); fo.write('\\n')\n",
    "    \n",
    "    fo.write(r'\\begin{center}'); fo.write('\\n')\n",
    "    fo.write(r'   \\includegraphics[width=16cm]{visible_stars.pdf}'); fo.write('\\n')\n",
    "    fo.write(r'\\end{center}'); fo.write('\\n')\n",
    "    \n",
    "    fo.write(r'\\vspace{5mm}'); fo.write('\\n')\n",
    "    fo.write(r'\\begin{center}'); fo.write('\\n')\n",
    "    fo.write(r'\\footnotesize'); fo.write('\\n')\n",
    "    fo.write(r'\\begin{tabular}{l l r r r r r}\\hline'); fo.write('\\n')\n",
    "    fo.write(r' \\multicolumn{1}{c}{\\#} & \\multicolumn{1}{c}{Name} & \\multicolumn{1}{c}{$h$} & \\multicolumn{1}{c}{$\\omega$} & \\multicolumn{1}{c}{$\\delta$} & \\multicolumn{1}{c}{\\textsc{Gha}} & \\multicolumn{1}{c}{\\textsc{Sha}}\\\\ \\hline'); fo.write('\\n')\n",
    "    \n",
    "    i = 1\n",
    "    for star in stars:\n",
    "        h_dm = nt.dd2dms(star['alt'])\n",
    "        str_h = r\"${:02d}^\\circ \\, {:04.1f}'$\".format(int(h_dm[0]), h_dm[1])\n",
    "        str_w = r'${:05.1f}^\\circ$'.format(star['az'])\n",
    "        dec_dm = nt.dd2dms(star['dec'])\n",
    "        if star['dec'] < 0:\n",
    "            str_dec = r\"${:02d}^\\circ \\, {:04.1f}' \\, \\mathrm{{S}}$\".format(int(np.abs(dec_dm[0])), dec_dm[1])\n",
    "        else:\n",
    "            str_dec = r\"${:02d}^\\circ \\, {:04.1f}' \\, \\mathrm{{N}}$\".format(int(np.abs(dec_dm[0])), dec_dm[1])\n",
    "        gha_dm = nt.dd2dms(star['gha'])\n",
    "        str_gha = r\"${:02d}^\\circ \\, {:04.1f}'$\".format(int(gha_dm[0]), gha_dm[1])\n",
    "        sha_dm = nt.dd2dms(star['sha'])\n",
    "        str_sha = r\"${:02d}^\\circ \\, {:04.1f}'$\".format(int(sha_dm[0]), sha_dm[1])\n",
    "        fo.write(r'   {:02d} & {:s} & {:s} & {:s} & {:s} & {:s} & {:s}\\\\'.format(i, star['name'], str_h, str_w, str_dec, str_gha, str_sha)); fo.write('\\n')\n",
    "        \n",
    "        i += 1\n",
    "             \n",
    "    fo.write(r'\\hline'); fo.write('\\n')\n",
    "    fo.write(r'\\end{tabular}'); fo.write('\\n')\n",
    "    fo.write(r'\\end{center}'); fo.write('\\n')\n",
    "    \n",
    "    fo.close()\n",
    "    \n",
    "    # run latex compile and clean\n",
    "    p = sp.Popen(['xelatex','today_celestial_objects.tex'], stdout = sp.PIPE)\n",
    "    p.wait()"
   ]
  },
  {
   "cell_type": "code",
   "execution_count": 57,
   "id": "individual-liability",
   "metadata": {},
   "outputs": [
    {
     "name": "stdout",
     "output_type": "stream",
     "text": [
      "01 - Polaris      h = 40°22.65′  ω = 000.21°\n",
      "02 - Eltanin      h = 66°48.71′  ω = 052.88°\n",
      "03 - Deneb        h = 39°24.06′  ω = 059.61°\n",
      "04 - Vega         h = 59°11.76′  ω = 080.61°\n",
      "05 - Altair       h = 29°05.85′  ω = 104.40°\n",
      "06 - Rasalhague   h = 54°07.31′  ω = 135.30°\n",
      "07 - Sabik        h = 30°36.39′  ω = 158.77°\n",
      "08 - Antares      h = 22°02.68′  ω = 171.62°\n",
      "09 - Alphecca     h = 75°02.16′  ω = 197.93°\n",
      "10 - Zuben El Genubi  h = 30°58.76′  ω = 197.97°\n",
      "11 - Spica        h = 27°21.76′  ω = 222.14°\n",
      "12 - Arcturus     h = 59°30.21′  ω = 231.47°\n",
      "13 - Denebola     h = 30°51.50′  ω = 262.29°\n",
      "14 - Alkaid       h = 66°14.86′  ω = 301.00°\n",
      "15 - Alioth       h = 57°16.03′  ω = 312.49°\n",
      "16 - Dubhe        h = 43°08.09′  ω = 321.56°\n",
      "17 - Kochab       h = 56°04.13′  ω = 352.06°\n"
     ]
    },
    {
     "data": {
      "image/png": "[encoded data removed]",
      "text/plain": [
       "<Figure size 432x288 with 1 Axes>"
      ]
     },
     "metadata": {
      "needs_background": "light"
     },
     "output_type": "display_data"
    }
   ],
   "source": [
    "cd = cdata.CelestialData(pp)\n",
    "\n",
    "date = [22,2,2021]\n",
    "time = [9,10,0]\n",
    "fi = [41,0,'N']\n",
    "la = [51,0,'W']\n",
    "h = 20.0\n",
    "pos = [nt.nav2dd(fi), nt.nav2dd(la), h]\n",
    "\n",
    "obj_data = cd.get_all_celestial_objects_data(date, time, pos)\n",
    "\n",
    "h0 = 20.0\n",
    "h1 = 80.0\n",
    "vis_objs = findVisibleObjects(date, time, pos, h0, h1, obj_data)\n",
    "vis_objs.sort(key=lambda k : k['az'])\n",
    "\n",
    "i = 1\n",
    "data = []\n",
    "for obj in vis_objs:\n",
    "    print('{:02d} - {:11s}  h = {:s}  {:s} = {:s}'.format(i,obj['name'],nt.prettyPrintAlt(obj['alt']), nt.u_omega, nt.prettyPrintAz(obj['az'])))\n",
    "    data.append([obj['az'],obj['alt']])\n",
    "    i += 1\n",
    "    \n",
    "data = np.array(data)\n",
    "\n",
    "fig, ax = mpl.subplots()\n",
    "i = 1\n",
    "for da in data:\n",
    "    ax.plot(da[0], da[1], marker='*', markersize=3, color='red')\n",
    "    ax.text(da[0]-4, da[1]+1, '{:02d}'.format(i))\n",
    "    i += 1\n",
    "ax.grid()\n",
    "ax.set_xlabel('azimuth - $\\omega$[deg]')\n",
    "ax.set_ylabel('altitude - $h$[deg]')\n",
    "ax.set_xlim([-10, 410])\n",
    "ax.set_ylim([h0-5, h1+5])\n",
    "fig.tight_layout()\n",
    "fig.savefig('visible_stars.pdf')"
   ]
  },
  {
   "cell_type": "code",
   "execution_count": 58,
   "id": "1d265494",
   "metadata": {},
   "outputs": [
    {
     "data": {
      "text/plain": [
       "0"
      ]
     },
     "execution_count": 58,
     "metadata": {},
     "output_type": "execute_result"
    }
   ],
   "source": [
    "# generate latex document\n",
    "t = [date[2],date[1],date[0],time[0],time[1],time[2]]\n",
    "gha_a = cd.get_aries_gha(t)\n",
    "\n",
    "generateLatexInput(date,time,[fi,la],vis_objs,gha_a,h,h0,h1)\n",
    "os.system(\"rm -rf body.tex visible_stars.pdf *.aux *.out *.log\")"
   ]
  },
  {
   "cell_type": "code",
   "execution_count": null,
   "id": "26d6fd02-0c7a-4048-b8ea-d6d58fd98ea4",
   "metadata": {},
   "outputs": [],
   "source": []
  }
 ],
 "metadata": {
  "kernelspec": {
   "display_name": "AstroLab",
   "language": "python",
   "name": "astrolab"
  },
  "language_info": {
   "codemirror_mode": {
    "name": "ipython",
    "version": 3
   },
   "file_extension": ".py",
   "mimetype": "text/x-python",
   "name": "python",
   "nbconvert_exporter": "python",
   "pygments_lexer": "ipython3",
   "version": "3.10.2"
  }
 },
 "nbformat": 4,
 "nbformat_minor": 5
}
