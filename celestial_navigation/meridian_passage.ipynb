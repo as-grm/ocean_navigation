{
 "cells": [
  {
   "cell_type": "code",
   "execution_count": null,
   "id": "4bcbd631-cdb6-40ab-aaf2-93bb975b0df7",
   "metadata": {},
   "outputs": [],
   "source": [
    "import os, sys\n",
    "\n",
    "# add custom modules and astro data path \n",
    "pp = '../nav_tools/'\n",
    "sys.path.append(pp)\n",
    "\n",
    "import celestialdata as cdata\n",
    "cd = cdata.CelestialData(pp)"
   ]
  },
  {
   "cell_type": "code",
   "execution_count": null,
   "id": "930cca83-e064-4f31-a1d8-c2e81ed6982d",
   "metadata": {},
   "outputs": [],
   "source": [
    "date = [2023,8,18]\n",
    "pos = [45,15,20]\n",
    "\n",
    "mt = cd.get_meridian_transit(date,pos)\n",
    "print('meridian transit (UTC):', mt)"
   ]
  },
  {
   "cell_type": "code",
   "execution_count": null,
   "id": "2b2ef547-32e5-4a1e-a801-248de7b14917",
   "metadata": {},
   "outputs": [],
   "source": []
  }
 ],
 "metadata": {
  "kernelspec": {
   "display_name": "Python 3 (default)",
   "language": "python",
   "name": "python3"
  },
  "language_info": {
   "codemirror_mode": {
    "name": "ipython",
    "version": 3
   },
   "file_extension": ".py",
   "mimetype": "text/x-python",
   "name": "python",
   "nbconvert_exporter": "python",
   "pygments_lexer": "ipython3",
   "version": "3.11.4"
  }
 },
 "nbformat": 4,
 "nbformat_minor": 5
}
