{
 "cells": [
  {
   "cell_type": "markdown",
   "id": "1a3acb86-d684-4066-8bf1-066cd9c98c3b",
   "metadata": {},
   "source": [
    "# Sextant Height Corrections\n",
    "\n",
    "Measured heights need to be corrected for several height corrections. \n",
    "\n",
    "Initially we obtain measured or **sextant height** $H_s$, final height used for positioning is **observed height** $H_o$. Corrections are split into several steps.\n",
    "\n",
    "1. $H = H_s + I + D$\n",
    "   - $I$: index error (device error)\n",
    "   - $D$: dip error (error of horizon dip)\n",
    "   - $H$: **apparent** or topocentric height\n",
    "      \n",
    "2. $H_r = H - \\rho$\n",
    "   - $\\rho$: refraction error\n",
    "\n",
    "3. $H_q = H_r + \\text{PA}$\n",
    "   - $\\text{PA}$: parallax error\n",
    "  \n",
    "4. $H_o = H_q \\pm \\text{Sd}$\n",
    "   - $\\text{Sd}$: semi-diameter error\n",
    "   - $H_o$: observer or **true geocentric** height "
   ]
  },
  {
   "cell_type": "code",
   "execution_count": null,
   "id": "4a16b5ee-2190-40cb-9ab8-f02260c0dfcf",
   "metadata": {},
   "outputs": [],
   "source": [
    "import os, sys\n",
    "\n",
    "# add custom modules and astro data path \n",
    "pp = '../nav_tools/'\n",
    "sys.path.append(pp)"
   ]
  },
  {
   "cell_type": "code",
   "execution_count": null,
   "id": "449fab51-30b6-4b46-9053-84b6bca7a1bc",
   "metadata": {},
   "outputs": [],
   "source": [
    "# needed libraries\n",
    "import math as mat\n",
    "import navtools as nt\n",
    "\n",
    "ref_model = ['smart', 'bennet']"
   ]
  },
  {
   "cell_type": "code",
   "execution_count": null,
   "id": "28ba65c7-8acd-45e2-a514-0965db19df4f",
   "metadata": {},
   "outputs": [],
   "source": [
    "# Dip horizon error\n",
    "# - h: observer height above sea level in [m]\n",
    "\n",
    "def dip_err(h):\n",
    "\n",
    "    return -1.76 * mat.sqrt(h)/60"
   ]
  },
  {
   "cell_type": "code",
   "execution_count": null,
   "id": "cb885cfb-b27f-4413-bc5c-9a184f6a3b73",
   "metadata": {},
   "outputs": [],
   "source": [
    "# Refraction error\n",
    "\n",
    "def refraction_err(H, model):\n",
    "\n",
    "    if model == ref_model[0]:\n",
    "        if H < 15:\n",
    "            err = (34.133 + 4.197*H + 0.00428*H**2)/(1 + 0.505*H + 0.0845*H**2)\n",
    "        else:\n",
    "            err = 0.97127/mat.tan(H*mat.pi/180) - 0.00137/mat.tan(H*mat.pi/180)**3\n",
    "    else:\n",
    "        y1 = H + 7.31/(H+4.4)\n",
    "        err1 = 1/mat.tan(y1*mat.pi/180)\n",
    "\n",
    "        y2 = 14.7*err1 + 13\n",
    "        err2 = -0.06 * mat.sin(y2*mat.pi/180)\n",
    "\n",
    "        err = err1 + err2\n",
    "        \n",
    "    return err"
   ]
  },
  {
   "cell_type": "code",
   "execution_count": null,
   "id": "45c694cc-ee0e-49ce-8ea5-301af9a4d7ac",
   "metadata": {},
   "outputs": [],
   "source": [
    "# Meteo refraction error\n",
    "# - p in [hPa]; reference p=1010 hPa \n",
    "# - T in [C] reference T=10 C\n",
    "\n",
    "def meteo_ref_err(T,p):\n",
    "\n",
    "    k = 0.28 * p / (T + 273)\n",
    "\n",
    "    return k"
   ]
  },
  {
   "cell_type": "code",
   "execution_count": null,
   "id": "a0c00efb-1e11-40aa-92a7-676922a7561d",
   "metadata": {},
   "outputs": [],
   "source": [
    "# Parallax error\n",
    "\n",
    "def parallax_err(HP, Hr):\n",
    "\n",
    "    return HP * mat.cos(Hr*mat.pi/180)"
   ]
  },
  {
   "cell_type": "code",
   "execution_count": null,
   "id": "3849a4de-04fe-4acd-9aa8-5fb1843a337d",
   "metadata": {},
   "outputs": [],
   "source": [
    "# Main program\n",
    "\n",
    "Hs = [20,12.6] # [deg,min]\n",
    "I = -2 # in minutes\n",
    "h = 20 # meters\n",
    "sd = 0\n",
    "HP = 0\n",
    "T = 30\n",
    "p = 1010\n",
    "\n",
    "# ---------------\n",
    "ie = I/60\n",
    "de = dip_err(h)\n",
    "print(' dip: {:}'.format(nt.prettyPrintAlt(de)))\n",
    "H = nt.dms2dd(Hs) + ie + de\n",
    "print(' H: {:}'.format(nt.prettyPrintAlt(H)))\n",
    "print()\n",
    "\n",
    "re1 = refraction_err(H, ref_model[0]); print(' re1: {:}'.format(nt.prettyPrintAlt(re1)))\n",
    "re2 = refraction_err(H, ref_model[1]); print(' re2: {:}'.format(nt.prettyPrintAlt(re2))) \n",
    "me = meteo_ref_err(T,p); print(' meteo k: {:.5f}'.format(me))\n",
    "re1m = me*re1\n",
    "re2m = me*re2\n",
    "\n",
    "Hr = H - re1\n",
    "Hrm = H - re1m\n",
    "#Hr = H - re2\n",
    "#Hrm = H - re2m\n",
    "print('       Hr: {:}'.format(nt.prettyPrintAlt(Hr)))\n",
    "print(' meteo Hr: {:}'.format(nt.prettyPrintAlt(Hrm)))\n",
    "print()\n",
    "\n",
    "pe = parallax_err(HP, Hr)\n",
    "Hq = Hr + pe\n",
    "print(' Hq: {:}'.format(nt.prettyPrintAlt(Hq)))\n",
    "\n",
    "Ho = Hq + sd/60\n",
    "print(' Ho: {:}'.format(nt.prettyPrintAlt(Ho)))"
   ]
  },
  {
   "cell_type": "code",
   "execution_count": null,
   "id": "bff5d576-9599-4c3d-a134-7e2bf3d8aee0",
   "metadata": {},
   "outputs": [],
   "source": []
  }
 ],
 "metadata": {
  "kernelspec": {
   "display_name": "Python 3 (ipykernel)",
   "language": "python",
   "name": "python3"
  },
  "language_info": {
   "codemirror_mode": {
    "name": "ipython",
    "version": 3
   },
   "file_extension": ".py",
   "mimetype": "text/x-python",
   "name": "python",
   "nbconvert_exporter": "python",
   "pygments_lexer": "ipython3",
   "version": "3.11.6"
  }
 },
 "nbformat": 4,
 "nbformat_minor": 5
}
