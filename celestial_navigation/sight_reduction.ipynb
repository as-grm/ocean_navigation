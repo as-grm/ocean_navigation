{
 "cells": [
  {
   "cell_type": "markdown",
   "id": "aef6018b-db32-476a-8db2-93117a9cbc47",
   "metadata": {},
   "source": [
    "# Izračun razlike višine in azimuta nebesnega telesa (SRP - Sight Reduction Procedure)\n",
    "\n",
    "To je metoda po Mark De Saint Hailare"
   ]
  },
  {
   "cell_type": "code",
   "execution_count": null,
   "id": "659113fc-3746-43c2-bd65-bae830a97cde",
   "metadata": {},
   "outputs": [],
   "source": [
    "import os, sys\n",
    "\n",
    "# add custom modules and astro data path \n",
    "pp = '../nav_tools/'\n",
    "sys.path.append(pp)\n",
    "\n",
    "# needed by basemap\n",
    "os.environ['PROJ_LIB'] = '/opt/miniconda3/envs/astrolab/share/proj'"
   ]
  },
  {
   "cell_type": "code",
   "execution_count": null,
   "id": "b61bf1d9-a163-4f82-93d3-11f569e02644",
   "metadata": {},
   "outputs": [],
   "source": [
    "import math as mat\n",
    "import numpy as np\n",
    "import matplotlib.pyplot as mpl\n",
    "mpl.rcParams['text.usetex'] = True\n",
    "mpl.rcParams.update({'font.size': 7})\n",
    "\n",
    "import celestialdata as cdata\n",
    "import navigationalstars as ns\n",
    "import navtools as nt"
   ]
  }
 ],
 "metadata": {
  "kernelspec": {
   "display_name": "AstroLab",
   "language": "python",
   "name": "astrolab"
  },
  "language_info": {
   "codemirror_mode": {
    "name": "ipython",
    "version": 3
   },
   "file_extension": ".py",
   "mimetype": "text/x-python",
   "name": "python",
   "nbconvert_exporter": "python",
   "pygments_lexer": "ipython3",
   "version": "3.10.2"
  }
 },
 "nbformat": 4,
 "nbformat_minor": 5
}
