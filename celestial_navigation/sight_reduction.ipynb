{
 "cells": [
  {
   "cell_type": "markdown",
   "id": "aef6018b-db32-476a-8db2-93117a9cbc47",
   "metadata": {},
   "source": [
    "# Izračun razlike višine in azimuta nebesnega telesa (SRP - Sight Reduction Procedure)\n",
    "\n",
    "Izračun parametrov položajnice po metodi *Mark De Saint Hailare*. Ročno poteka izračun z uporabo <a href=\"https://unilj-my.sharepoint.com/:b:/g/personal/aleksander_grm_fpp_uni-lj_si/EQhyqtLl3lNKsl2Jo21S4f8Bidd2DuJ_hLI1jO1bR5Cg8w\">Navtičnega almanaha</a> (*Gha*, *Dec* in *Sha* pomladišča in nebesnega telesa) in meritvijo višine $H$ nebesnega telesa.\n",
    "\n",
    "Poleg same meritve moramo določiti še čas meritve in položaj meritve. Položaje vnašamo v obliki, kot je v navtiki dogovor \n",
    "\n",
    "$\\varphi = \\#\\#^\\circ \\, \\#\\#.\\#' \\, \\mathrm{N/S}$, $\\lambda = \\#\\#\\#^\\circ \\, \\#\\#.\\#' \\, \\mathrm{E/W}$, \n",
    "\n",
    "kjer imamo stopinje kot celo število in minute kot število na 1 decimalno mesto natančno.\n",
    "\n",
    "Format vnosa položaja:\n",
    "- LAT-$\\varphi$ in LONG-$\\lambda$ vnašamo v formatu [stopinje, minute, stran neba]\n",
    "\n",
    "Primer vnosa položaja:\n",
    "- $\\varphi$: [12, 34.5, 'N']\n",
    "- $\\lambda$: [117, 12.6, 'W']\n",
    "- stran neba mora biti v **enojnih navednicah**, kjer so dovoljeni znaki 'N', 'S', 'E', 'W'\n",
    "\n",
    "Čas meritve zapišemo v obliki\n",
    "- datum: *date*=[day,month,year]\n",
    "- ura: *time*=[hour,minutes, seconds]\n",
    "\n",
    "Format vpisa višine je enak kakor za položaj in zapišemo v obliki\n",
    "- višina: $h=\\#\\#^\\circ \\#\\#.\\#'$=[deg,min] (primer: [34, 17.6])"
   ]
  },
  {
   "cell_type": "markdown",
   "id": "db2ce61b-0b0e-45e9-882d-875db3d4b6a1",
   "metadata": {},
   "source": [
    "<hr>\n",
    "\n",
    "**Postopek izračuna**\n",
    "\n",
    "Postopek določanja parametrov položajnice poteka po naslednjem vrstnem redu:\n",
    "\n",
    "1. Najprej je potrebno izbrati domnevni položaj (apparent/assumed position)\n",
    "   $$P_\\mathrm{AP} = (\\varphi_\\mathrm{AP},\\lambda_\\mathrm{AP}),$$\n",
    "2. Nato izračunamo višino merjenega nebesnega telesa (height calculated $H_c$) s pomočjo formule\n",
    "   $$ \\sin H_c = \\sin \\varphi_\\mathrm{AP} \\: \\sin \\delta + \\cos \\varphi_\\mathrm{AP} \\: \\cos \\delta \\: \\cos \\mathrm{Lha},$$\n",
    "3. Potem izračunamo azimut nebesnega telesa iz našega domnevnega položaja\n",
    "   $$\\cos \\omega = \\frac{\\sin \\delta - \\sin H_c \\: \\sin \\varphi_\\mathrm{AP}}{\\cos H_c \\: \\cos \\varphi_\\mathrm{AP}}$$ in ga nato pretvorimo v navtični azimut, ki ga potrebujemo za risanje položajne linije\n",
    "   $$\\omega_\\mathrm{N} = \\begin{cases} \\omega &; \\mathrm{če~je~} 180^\\circ < \\mathrm{Lha} \\leq 360^\\circ \\\\ 360^\\circ - \\omega &; \\mathrm{če~je~} ~~~0^\\circ < \\mathrm{Lha}  \\leq 180^\\circ \\end{cases}$$\n",
    "  Tako smo izračunani azimut $\\omega$ pretvorili v navtični azimut $\\omega_\\mathrm{N}$ s pomočjo podatka o mestnem časovnem kotu $\\mathrm{Lha}$.\n",
    "4. S pomočjo izmerjene in popravljene višine $H_\\mathrm{o}$ (height observed) lahko določimo razliko v višinah, ki ji v angleščini pravimo **intercept** $$\\Delta H [\\mathrm{Nm}]= 60 \\: (H_\\mathrm{o}[\\mathrm{deg}] - H_\\mathrm{c}[\\mathrm{deg}]).$$ Razlika se določi v Nm, ker potrebujemo razdaljo za vris položajnice na karto."
   ]
  },
  {
   "cell_type": "markdown",
   "id": "5f3bdf8b-4d29-4377-b928-b606e048e266",
   "metadata": {},
   "source": [
    "<hr>\n",
    "\n",
    "## Nalaganje ustreznih modulov in program za izračun \n"
   ]
  },
  {
   "cell_type": "code",
   "execution_count": null,
   "id": "659113fc-3746-43c2-bd65-bae830a97cde",
   "metadata": {},
   "outputs": [],
   "source": [
    "import os, sys\n",
    "\n",
    "# add custom modules and astro data path \n",
    "pp = '../nav_tools/'\n",
    "sys.path.append(pp)"
   ]
  },
  {
   "cell_type": "code",
   "execution_count": null,
   "id": "b61bf1d9-a163-4f82-93d3-11f569e02644",
   "metadata": {},
   "outputs": [],
   "source": [
    "import math as mat\n",
    "import numpy as np\n",
    "import matplotlib.pyplot as mpl\n",
    "mpl.rcParams['text.usetex'] = True\n",
    "mpl.rcParams.update({'font.size': 7})\n",
    "\n",
    "import celestialdata as cdata\n",
    "import navigationalstars as ns\n",
    "import navtools as nt"
   ]
  },
  {
   "cell_type": "code",
   "execution_count": null,
   "id": "83019f31-7d43-4365-96da-fbefb5642f8c",
   "metadata": {},
   "outputs": [],
   "source": [
    "def getHeight(fi, dec, lha):\n",
    "\n",
    "    fi_rad = nt.deg2rad(fi)\n",
    "    dec_rad = nt.deg2rad(dec)\n",
    "    lha_rad = nt.deg2rad(lha)\n",
    "\n",
    "    sin_hc = mat.sin(fi_rad)*mat.sin(dec_rad) + mat.cos(fi_rad)*mat.cos(dec_rad)*mat.cos(lha_rad)\n",
    "\n",
    "    return mat.asin(sin_hc) "
   ]
  },
  {
   "cell_type": "code",
   "execution_count": null,
   "id": "134948e1-2d10-4fe3-a8fc-fcbf6894dbe2",
   "metadata": {},
   "outputs": [],
   "source": [
    "def getAzimuth(fi, dec, lha, hc):\n",
    "\n",
    "    fi_rad = nt.deg2rad(fi)\n",
    "    dec_rad = nt.deg2rad(dec)\n",
    "    lha_rad = nt.deg2rad(lha)\n",
    "\n",
    "    cos_wc = (mat.sin(dec_rad) - mat.sin(hc)*mat.sin(fi_rad))/(mat.cos(hc)*mat.cos(fi_rad))\n",
    "\n",
    "    wc = mat.acos(cos_wc)\n",
    "\n",
    "    if lha > mat.pi:\n",
    "        wn = wc\n",
    "    else:\n",
    "        wn = 2*mat.pi - wc\n",
    "\n",
    "    return wn"
   ]
  },
  {
   "cell_type": "code",
   "execution_count": null,
   "id": "ded3d683-1b9e-476b-a567-bbbf9d9b44ae",
   "metadata": {},
   "outputs": [],
   "source": [
    "# poišče vsa navigacijska nebesna telesa nad obzorjem\n",
    "def findAllVisibleCelestialBodies(t,pos,ns_db):\n",
    "    \n",
    "    star_ids = ns_db.keys()\n",
    "    h0 = 0\n",
    "    h1 = 90\n",
    "    \n",
    "    vs = []\n",
    "    for s_id in star_ids:\n",
    "        sdd = cd.get_star_data(s_id,t)\n",
    "        saz = cd.get_star_altaz(s_id,t,pos)\n",
    "        if saz['alt'] > h0 and saz['alt'] < h1:\n",
    "            s_name = ns_db[s_id][0]\n",
    "            vs.append({'name':s_name, 'dec':sdd['dec'], 'sha':sdd['sha'], 'alt':saz['alt'], 'az':saz['az']})\n",
    "    \n",
    "    return vs"
   ]
  },
  {
   "cell_type": "code",
   "execution_count": null,
   "id": "201dffff-2935-484a-8764-757879010413",
   "metadata": {},
   "outputs": [],
   "source": [
    "# poišči podatke o merjenem nebesnem telesu\n",
    "def findCelestialBodyData(ns_db,pos,t,name):\n",
    " \n",
    "    gha_a = cd.get_aries_gha(t)\n",
    "    lha_a = gha_a + pos[1]\n",
    "\n",
    "    cbs = findAllVisibleCelestialBodies(t,pos,ns_db)\n",
    "    dec = 0\n",
    "    sha = 0\n",
    "    alt = 0\n",
    "    az = 0\n",
    "    found = False\n",
    "\n",
    "    for cb in cbs:\n",
    "        if cb['name'].upper() == name.upper():\n",
    "            dec = cb['dec']\n",
    "            sha = cb['sha']\n",
    "            alt = cb['alt']\n",
    "            az = cb['az']\n",
    "            found = True\n",
    "\n",
    "    data = {'gha_a':gha_a, 'lha_a':lha_a, 'dec':dec, 'sha':sha, 'alt':alt, 'az':az}\n",
    "\n",
    "    return [found,data,cbs]   "
   ]
  },
  {
   "cell_type": "code",
   "execution_count": null,
   "id": "cf1eb3ae-2e55-48e5-b121-2eb648121f64",
   "metadata": {},
   "outputs": [],
   "source": [
    "#\n",
    "def getHeightAndAzimuth(ns_db,pos,date,time,name):\n",
    "\n",
    "    t = [date[0],date[1],date[2],time[0],time[1],time[2]]\n",
    "\n",
    "    [cf, data,cbs] = findCelestialBodyData(ns_db,pos,t,name)\n",
    "\n",
    "    if cf:\n",
    "        lha = data['lha_a'] + data['sha']\n",
    "        hc = nt.rad2deg(getHeight(pos[0], data['dec'], lha))\n",
    "        wn = nt.rad2deg(getAzimuth(pos[0], data['dec'], hc, lha))\n",
    "\n",
    "        return [cf,hc,wn,cbs]\n",
    "    else:\n",
    "        return [cf,0,0,cbs] "
   ]
  },
  {
   "cell_type": "markdown",
   "id": "a8fc30f0-401a-4d77-858e-cf13102359f4",
   "metadata": {},
   "source": [
    "<hr>\n",
    "\n",
    "## Vnos vhodnih podatkov in izračun\n"
   ]
  },
  {
   "cell_type": "code",
   "execution_count": null,
   "id": "ce7ac4b5-666c-489e-9c7d-0ebc4956a515",
   "metadata": {},
   "outputs": [],
   "source": [
    "# Load astro database\n",
    "cd = cdata.CelestialData(pp)\n",
    "ns_db = cd.get_nav_stars_db()"
   ]
  },
  {
   "cell_type": "code",
   "execution_count": null,
   "id": "20f9185e-6a09-4b08-a886-4498e43af30f",
   "metadata": {},
   "outputs": [],
   "source": [
    "# *** Inputs ***\n",
    "date = [2022,2,12] # [yyyy, mm, dd]\n",
    "time = [19,0,0]    # [HH:MM:SS] in UTC\n",
    "\n",
    "# Apparent position\n",
    "fi = [46,0,'N']; \n",
    "la = [13,30,'E']\n",
    "\n",
    "# Observer height in [meters]\n",
    "h = 20.0\n",
    "\n",
    "# Observed Celestial Body \n",
    "cb_name = 'betelgeuse' # Celestial Body name\n",
    "ho = [51, 11.28]       # Celestial Body observed height [deg, mi.dec] (corrected!!)\n",
    "\n",
    "\n",
    "# -------------------\n",
    "# --- calculation ---\n",
    "# -------------------\n",
    "\n",
    "pos = [nt.nav2dd(fi), nt.nav2dd(la), h]\n",
    "ho_dd = ho[0]+ho[1]/60\n",
    "\n",
    "[cf, hc, wn, cbs] = getHeightAndAzimuth(ns_db,pos,date,time,cb_name)\n",
    "\n",
    "if cf:\n",
    "    dh = 60 * (ho_dd - hc)\n",
    "    print('Results of calculation:')\n",
    "    print()\n",
    "    print('  -> body: {:s}'.format(cb_name.upper()))\n",
    "    print('  -> height calculated: {:s}'.format(nt.prettyPrintAlt(hc)))\n",
    "    print('  -> height measured:   {:s}'.format(nt.prettyPrintAlt(ho_dd)))\n",
    "    \n",
    "    print()\n",
    "    print('  -> azimuth:   {:s}'.format(nt.prettyPrintAz(wn)))\n",
    "    print('  -> intercept: {:6.2f} Nm'.format(dh))\n",
    "else:\n",
    "    print('  ERROR: Celestial body name {:s} NOT found in database'.format(cb_name))\n",
    "    print('         Visible bodies are:')\n",
    "    for cb in cbs:\n",
    "        print('           -> {:12s}'.format(cb['name']))\n",
    "        "
   ]
  }
 ],
 "metadata": {
  "kernelspec": {
   "display_name": "Python 3 (default)",
   "language": "python",
   "name": "python3"
  },
  "language_info": {
   "codemirror_mode": {
    "name": "ipython",
    "version": 3
   },
   "file_extension": ".py",
   "mimetype": "text/x-python",
   "name": "python",
   "nbconvert_exporter": "python",
   "pygments_lexer": "ipython3",
   "version": "3.11.4"
  }
 },
 "nbformat": 4,
 "nbformat_minor": 5
}
