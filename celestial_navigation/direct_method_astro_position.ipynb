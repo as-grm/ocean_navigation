{
 "cells": [
  {
   "cell_type": "markdown",
   "id": "a5ed857e-a373-45d5-8ff2-7d1b4d1d154f",
   "metadata": {},
   "source": [
    "# Direktna metoda izračuna astronomskega položaja\n",
    "\n",
    "Sledijo komentarji"
   ]
  },
  {
   "cell_type": "code",
   "execution_count": 1,
   "id": "0044cfc4-5b20-4018-92cf-e38f6b28ba10",
   "metadata": {},
   "outputs": [],
   "source": [
    "import os, sys\n",
    "\n",
    "# add custom modules and astro data path \n",
    "pp = '../nav_tools/'\n",
    "sys.path.append(pp)"
   ]
  },
  {
   "cell_type": "code",
   "execution_count": 2,
   "id": "e9d09e63-4f5e-465c-8975-c629779c3f38",
   "metadata": {},
   "outputs": [],
   "source": [
    "import math as mat\n",
    "import numpy as np\n",
    "import matplotlib.pyplot as mpl\n",
    "mpl.rcParams['text.usetex'] = True\n",
    "mpl.rcParams.update({'font.size': 7})\n",
    "\n",
    "import celestialdata as cdata\n",
    "import navigationalstars as ns\n",
    "import navtools as nt"
   ]
  },
  {
   "cell_type": "code",
   "execution_count": 3,
   "id": "435b26b8-14ba-43dc-8058-21c3aa531d60",
   "metadata": {},
   "outputs": [],
   "source": [
    "#\n",
    "\n",
    "def deg2rad(dd, mm=0):\n",
    "    \n",
    "    return (dd + mm/60)/180*mat.pi\n",
    "\n",
    "def rad2deg(x):\n",
    "    \n",
    "    neg = False\n",
    "    if x < 0:\n",
    "        neg = True\n",
    "    xx = np.abs(x)\n",
    "    dd = mat.floor(xx/mat.pi*180)\n",
    "    mm = (xx/mat.pi*180 - dd)*60\n",
    "    \n",
    "    if neg:\n",
    "        return '-{:02d} {:08.5f}'.format(dd,mm)\n",
    "    else:\n",
    "        return '{:02d} {:08.5f}'.format(dd,mm)"
   ]
  },
  {
   "cell_type": "code",
   "execution_count": 4,
   "id": "df3dd70b-aabc-4cfc-96b6-e7926fc6d386",
   "metadata": {},
   "outputs": [],
   "source": [
    "# Returns Geographic Position (GP) of the star based on DEC and GHA\n",
    "# input: declination, GHA\n",
    "# output: fi, lambda\n",
    "\n",
    "def getZFL(h, dec, gha):\n",
    "    \n",
    "    z = mat.pi/2 - h\n",
    "    fi = dec\n",
    "    if gha > mat.pi:\n",
    "        la = 2*mat.pi - gha\n",
    "    else:\n",
    "        la = -gha\n",
    "    \n",
    "    return [z,fi,la]"
   ]
  },
  {
   "cell_type": "code",
   "execution_count": 5,
   "id": "f8d9021f-c187-41dd-ab84-c731ba146626",
   "metadata": {},
   "outputs": [],
   "source": [
    "# Returns great circle (GC) distance between two positions\n",
    "# - input: fi1, fi2, dl (delta lambda)\n",
    "# - output: great circle distance in radians\n",
    "\n",
    "def getDist(fi1,fi2,dl):\n",
    "    \n",
    "    psi1 = mat.pi/2 - fi1\n",
    "    psi2 = mat.pi/2 - fi2\n",
    "    \n",
    "    cosD = mat.cos(psi1)*mat.cos(psi2) + mat.sin(psi1)*mat.sin(psi2)*mat.cos(dl)\n",
    "    \n",
    "    return mat.acos(cosD)"
   ]
  },
  {
   "cell_type": "code",
   "execution_count": 6,
   "id": "f3105064-9c96-4687-97df-e88a00383663",
   "metadata": {},
   "outputs": [],
   "source": [
    "#\n",
    "\n",
    "def getPi1(z1,z2,D):\n",
    "    \n",
    "    cosPi1 = (mat.cos(z2) - mat.cos(z1)*mat.cos(D)) / (mat.sin(z1)*mat.sin(D))\n",
    "    \n",
    "    return mat.acos(cosPi1)"
   ]
  },
  {
   "cell_type": "code",
   "execution_count": 7,
   "id": "ca97bae7-de5d-4739-b159-bd1fe716fc0e",
   "metadata": {},
   "outputs": [],
   "source": [
    "#\n",
    "\n",
    "def getW1(fi1,fi2,D):\n",
    "    \n",
    "    psi1 = mat.pi/2 - fi1\n",
    "    psi2 = mat.pi/2 - fi2\n",
    "    \n",
    "    cosW1 = (mat.cos(psi2) - mat.cos(psi1)*mat.cos(D)) / (mat.sin(psi1)*mat.sin(D))\n",
    "    \n",
    "    return mat.acos(cosW1)"
   ]
  },
  {
   "cell_type": "code",
   "execution_count": 8,
   "id": "98cb908b-4fca-46ae-bda4-d7ccc98cd650",
   "metadata": {},
   "outputs": [],
   "source": [
    "#\n",
    "\n",
    "def getPsiX(z1, fi1, Wx):\n",
    "    \n",
    "    psi1 = mat.pi/2 - fi1\n",
    "    \n",
    "    cosPsiX = mat.cos(psi1)*mat.cos(z1) + mat.sin(psi1)*mat.sin(z1)*mat.cos(Wx)\n",
    "    \n",
    "    return mat.acos(cosPsiX)"
   ]
  },
  {
   "cell_type": "code",
   "execution_count": 9,
   "id": "3da79e00-1314-41c0-b485-da330d05fd4e",
   "metadata": {},
   "outputs": [],
   "source": [
    "#\n",
    "\n",
    "def getDLx(z1, fi1, fix):\n",
    "    \n",
    "    psi1 = mat.pi/2 - fi1\n",
    "    psix = mat.pi/2 - fix\n",
    "    \n",
    "    cosDL = (mat.cos(z1) - mat.cos(psi1)*mat.cos(psix)) / (mat.sin(psi1)*mat.sin(psix))\n",
    "    \n",
    "    return mat.acos(cosDL)"
   ]
  },
  {
   "cell_type": "code",
   "execution_count": 10,
   "id": "3568741a-cce5-4781-8b9c-010b20265ade",
   "metadata": {},
   "outputs": [],
   "source": [
    "#\n",
    "\n",
    "def calculatePosition(z1,fi1,la1,z2,fi2,la2):\n",
    "    \n",
    "    # delta fi and delta lambda\n",
    "    dfi = fi2 - fi1\n",
    "    dla = la2 - la1\n",
    "    if dla > mat.pi:\n",
    "        dla = -(2*mat.pi - dla)\n",
    "    elif dla < -mat.pi:\n",
    "        dla = 2*mat.pi + dla\n",
    "\n",
    "    #print('dla={:}'.format(rad2deg(dla)))\n",
    "\n",
    "    D = getDist(fi1,fi2, dla)\n",
    "    Pi1 = getPi1(z1,z2,D)\n",
    "    W1 = getW1(fi1,fi2,D)\n",
    "    alpha1 = W1 - Pi1\n",
    "    print('D={:}, W1={:}, Pi1={:}, a1={:}'.format(rad2deg(D), rad2deg(W1), rad2deg(Pi1), rad2deg(alpha1)))\n",
    "\n",
    "    psiX = getPsiX(z1,fi1,alpha1)\n",
    "    fiX = mat.pi/2 - psiX\n",
    "    dlX = getDLx(z1,fi1,fiX)\n",
    "    print('psiX={:}, dlX={:}'.format(rad2deg(psiX), rad2deg(dlX)))\n",
    "    \n",
    "    if dla < 0:\n",
    "        laX = la1 - np.abs(dlX)\n",
    "    else:\n",
    "        laX = la1 + np.abs(dlX)\n",
    "    \n",
    "    return [fiX, laX]"
   ]
  },
  {
   "cell_type": "code",
   "execution_count": 11,
   "id": "9fdc4eea-edca-437e-80d5-0a63ce13a5b9",
   "metadata": {},
   "outputs": [
    {
     "name": "stdout",
     "output_type": "stream",
     "text": [
      "1: z=58 57.80000, fi=07 24.70000, la=65 38.30000\n",
      "2: z=22 46.10000, fi=23 34.30000, la=08 39.00000\n",
      "D=56 51.27987, W1=66 37.73072, Pi1=26 49.96233, a1=39 47.76839\n",
      "psiX=43 59.99865, dlX=52 08.27296\n",
      "\n",
      "-----------------------------------------\n",
      "Calculated position\n",
      "fi=46 00.00135, la=13 30.02704\n"
     ]
    }
   ],
   "source": [
    "# observer position (what should we get)!!\n",
    "# fi_check = deg2rad(46,0)\n",
    "# la_check = deg2rad(13,30)\n",
    "\n",
    "# star 1\n",
    "h1 = deg2rad(31,02.2)\n",
    "dec1 = deg2rad(7,24.7)\n",
    "gha1 = deg2rad(294,21.7)\n",
    "[z1,fi1,la1] = getZFL(h1,dec1,gha1)\n",
    "print('1: z={:}, fi={:}, la={:}'.format(rad2deg(z1),rad2deg(fi1),rad2deg(la1)))\n",
    "\n",
    "# star 2\n",
    "h2 = deg2rad(67,13.9)\n",
    "dec2 = deg2rad(23,34.3)\n",
    "gha2 = deg2rad(351,21.0)\n",
    "[z2,fi2,la2] = getZFL(h2,dec2,gha2)\n",
    "print('2: z={:}, fi={:}, la={:}'.format(rad2deg(z2),rad2deg(fi2),rad2deg(la2)))\n",
    "\n",
    "[fiX, laX] = calculatePosition(z1,fi1,la1,z2,fi2,la2)\n",
    "\n",
    "print()\n",
    "print('-----------------------------------------')\n",
    "print('Calculated position')\n",
    "print('fi={:}, la={:}'.format(rad2deg(fiX), rad2deg(laX)))\n",
    "#print()\n",
    "#print('Error in calculated position')\n",
    "#print('fi={:.2f} Nm, la={:.2f} Nm'.format(np.abs(fi-fiX)/mat.pi*180*60, np.abs(la-laX)/mat.pi*180*60))"
   ]
  },
  {
   "cell_type": "code",
   "execution_count": null,
   "id": "c2ef910a-6fb3-4739-a625-f94b73f6a32c",
   "metadata": {},
   "outputs": [],
   "source": []
  }
 ],
 "metadata": {
  "kernelspec": {
   "display_name": "Python 3 (default)",
   "language": "python",
   "name": "python3"
  },
  "language_info": {
   "codemirror_mode": {
    "name": "ipython",
    "version": 3
   },
   "file_extension": ".py",
   "mimetype": "text/x-python",
   "name": "python",
   "nbconvert_exporter": "python",
   "pygments_lexer": "ipython3",
   "version": "3.11.4"
  }
 },
 "nbformat": 4,
 "nbformat_minor": 5
}
