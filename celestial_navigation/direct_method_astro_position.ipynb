{
 "cells": [
  {
   "cell_type": "markdown",
   "id": "a5ed857e-a373-45d5-8ff2-7d1b4d1d154f",
   "metadata": {},
   "source": [
    "# Direktna metoda izračuna astronomskega položaja\n",
    "\n",
    "Sledijo komentarji"
   ]
  },
  {
   "cell_type": "code",
   "execution_count": null,
   "id": "0044cfc4-5b20-4018-92cf-e38f6b28ba10",
   "metadata": {},
   "outputs": [],
   "source": [
    "import os, sys\n",
    "\n",
    "# add custom modules and astro data path \n",
    "pp = '../nav_tools/'\n",
    "sys.path.append(pp)"
   ]
  },
  {
   "cell_type": "code",
   "execution_count": null,
   "id": "e9d09e63-4f5e-465c-8975-c629779c3f38",
   "metadata": {},
   "outputs": [],
   "source": [
    "import math as mat\n",
    "import numpy as np\n",
    "import matplotlib.pyplot as mpl\n",
    "mpl.rcParams['text.usetex'] = True\n",
    "mpl.rcParams.update({'font.size': 7})\n",
    "\n",
    "import celestialdata as cdata\n",
    "import navigationalstars as ns\n",
    "import navtools as nt"
   ]
  },
  {
   "cell_type": "code",
   "execution_count": null,
   "id": "df3dd70b-aabc-4cfc-96b6-e7926fc6d386",
   "metadata": {},
   "outputs": [],
   "source": [
    "# Returns Geographic Position (GP) of the star based on DEC and GHA\n",
    "# input: declination, GHA\n",
    "# output: fi, lambda\n",
    "\n",
    "def getZFL(h, dec, gha):\n",
    "    \n",
    "    z = mat.pi/2 - h\n",
    "    fi = dec\n",
    "    if gha > mat.pi:\n",
    "        la = 2*mat.pi - gha\n",
    "    else:\n",
    "        la = -gha\n",
    "    \n",
    "    return [z,fi,la]"
   ]
  },
  {
   "cell_type": "code",
   "execution_count": null,
   "id": "f8d9021f-c187-41dd-ab84-c731ba146626",
   "metadata": {},
   "outputs": [],
   "source": [
    "# Returns great circle (GC) distance between two positions\n",
    "# - input: fi1, fi2, dl (delta lambda)\n",
    "# - output: great circle distance in radians\n",
    "\n",
    "def getDist(fi1,fi2,dl):\n",
    "    \n",
    "    psi1 = mat.pi/2 - fi1\n",
    "    psi2 = mat.pi/2 - fi2\n",
    "    \n",
    "    cosD = mat.cos(psi1)*mat.cos(psi2) + mat.sin(psi1)*mat.sin(psi2)*mat.cos(dl)\n",
    "    \n",
    "    return mat.acos(cosD)"
   ]
  },
  {
   "cell_type": "code",
   "execution_count": null,
   "id": "f3105064-9c96-4687-97df-e88a00383663",
   "metadata": {},
   "outputs": [],
   "source": [
    "#\n",
    "\n",
    "def getPi1(z1,z2,D):\n",
    "    \n",
    "    cosPi1 = (mat.cos(z2) - mat.cos(z1)*mat.cos(D)) / (mat.sin(z1)*mat.sin(D))\n",
    "    \n",
    "    return mat.acos(cosPi1)"
   ]
  },
  {
   "cell_type": "code",
   "execution_count": null,
   "id": "ca97bae7-de5d-4739-b159-bd1fe716fc0e",
   "metadata": {},
   "outputs": [],
   "source": [
    "#\n",
    "\n",
    "def getW1(fi1,fi2,D):\n",
    "    \n",
    "    psi1 = mat.pi/2 - fi1\n",
    "    psi2 = mat.pi/2 - fi2\n",
    "    \n",
    "    cosW1 = (mat.cos(psi2) - mat.cos(psi1)*mat.cos(D)) / (mat.sin(psi1)*mat.sin(D))\n",
    "    \n",
    "    return mat.acos(cosW1)"
   ]
  },
  {
   "cell_type": "code",
   "execution_count": null,
   "id": "98cb908b-4fca-46ae-bda4-d7ccc98cd650",
   "metadata": {},
   "outputs": [],
   "source": [
    "#\n",
    "\n",
    "def getPsiX(z1, fi1, Wx):\n",
    "    \n",
    "    psi1 = mat.pi/2 - fi1\n",
    "    \n",
    "    cosPsiX = mat.cos(psi1)*mat.cos(z1) + mat.sin(psi1)*mat.sin(z1)*mat.cos(Wx)\n",
    "    \n",
    "    return mat.acos(cosPsiX)"
   ]
  },
  {
   "cell_type": "code",
   "execution_count": null,
   "id": "3da79e00-1314-41c0-b485-da330d05fd4e",
   "metadata": {},
   "outputs": [],
   "source": [
    "#\n",
    "\n",
    "def getDLx(z1, fi1, fix):\n",
    "    \n",
    "    psi1 = mat.pi/2 - fi1\n",
    "    psix = mat.pi/2 - fix\n",
    "    \n",
    "    cosDL = (mat.cos(z1) - mat.cos(psi1)*mat.cos(psix)) / (mat.sin(psi1)*mat.sin(psix))\n",
    "    \n",
    "    return mat.acos(cosDL)"
   ]
  },
  {
   "cell_type": "code",
   "execution_count": null,
   "id": "3568741a-cce5-4781-8b9c-010b20265ade",
   "metadata": {},
   "outputs": [],
   "source": [
    "#\n",
    "\n",
    "def calculatePosition(z1,fi1,la1,z2,fi2,la2):\n",
    "    \n",
    "    # delta fi and delta lambda\n",
    "    dfi = fi2 - fi1\n",
    "    dla = la2 - la1\n",
    "    if dla > mat.pi:\n",
    "        dla = -(2*mat.pi - dla)\n",
    "    elif dla < -mat.pi:\n",
    "        dla = 2*mat.pi + dla\n",
    "\n",
    "    #print('dla={:}'.format(rad2deg(dla)))\n",
    "\n",
    "    D = getDist(fi1,fi2, dla)\n",
    "    Pi1 = getPi1(z1,z2,D)\n",
    "    W1 = getW1(fi1,fi2,D)\n",
    "    alpha1 = W1 - Pi1\n",
    "    print('D={:}, W1={:}, Pi1={:}, a1={:}'.format(nt.rad2deg(D), nt.rad2deg(W1), nt.rad2deg(Pi1), nt.rad2deg(alpha1)))\n",
    "\n",
    "    psiX = getPsiX(z1,fi1,alpha1)\n",
    "    fiX = mat.pi/2 - psiX\n",
    "    dlX = getDLx(z1,fi1,fiX)\n",
    "    print('psiX={:}, dlX={:}'.format(nt.rad2deg(psiX), nt.rad2deg(dlX)))\n",
    "    \n",
    "    if dla < 0:\n",
    "        laX = la1 - np.abs(dlX)\n",
    "    else:\n",
    "        laX = la1 + np.abs(dlX)\n",
    "    \n",
    "    return [fiX, laX]"
   ]
  },
  {
   "cell_type": "code",
   "execution_count": null,
   "id": "9fdc4eea-edca-437e-80d5-0a63ce13a5b9",
   "metadata": {},
   "outputs": [],
   "source": [
    "# observer position (what should we get)!!\n",
    "fi_check = [46,0,'N'];  fi_check_rad = nt.deg2rad(nt.nav2dd(fi_check))\n",
    "la_check = [13,30,'E']; la_check_rad = nt.deg2rad(nt.nav2dd(la_check))\n",
    "\n",
    "# Inputs: Star 1\n",
    "h1 = [31,02.2]; h1_rad = nt.deg2rad(nt.dms2dd(h1))\n",
    "dec1 = [7,24.7]; dec1_rad = nt.deg2rad(nt.dms2dd(dec1))\n",
    "gha1 = [294,21.7]; gha1_rad = nt.deg2rad(nt.dms2dd(gha1))\n",
    "\n",
    "[z1,fi1,la1] = getZFL(h1_rad,dec1_rad,gha1_rad)\n",
    "print('*Star 1* - GP and zenith distance:')\n",
    "print('  -> fi =  {:}'.format(nt.prettyPrintLat(nt.rad2deg(fi1))))\n",
    "print('  -> la = {:}'.format(nt.prettyPrintLong(nt.rad2deg(la1))))\n",
    "print('  ->  z =  {:} (observed)'.format(nt.prettyPrintAlt(nt.rad2deg(z1))))\n",
    "print()\n",
    "\n",
    "# Inputs: Star 2\n",
    "h2 = [67,13.9]; h2_rad = nt.deg2rad(nt.dms2dd(h2))\n",
    "dec2 = [23,34.3]; dec2_rad = nt.deg2rad(nt.dms2dd(dec2))\n",
    "gha2 = [351,21.0]; gha2_rad = nt.deg2rad(nt.dms2dd(gha2))\n",
    "\n",
    "[z2,fi2,la2] = getZFL(h2_rad,dec2_rad,gha2_rad)\n",
    "print('*Star 2* - GP and zenith distance:')\n",
    "print('  -> fi =  {:}'.format(nt.prettyPrintLat(nt.rad2deg(fi2))))\n",
    "print('  -> la = {:}'.format(nt.prettyPrintLong(nt.rad2deg(la2))))\n",
    "print('  ->  z =  {:} (observed)'.format(nt.prettyPrintAlt(nt.rad2deg(z2))))\n",
    "print()\n",
    "\n",
    "print('-----------------------------------------')\n",
    "print('Calculation parameters:')\n",
    "[fiX, laX] = calculatePosition(z1,fi1,la1,z2,fi2,la2)\n",
    "print('-----------------------------------------')\n",
    "print()\n",
    "\n",
    "print('*** Calculated position: ***')\n",
    "print('  -> fi =  {:}'.format(nt.prettyPrintLat(nt.rad2deg(fiX))))\n",
    "print('  -> la = {:}'.format(nt.prettyPrintLong(nt.rad2deg(laX))))\n",
    "print()\n",
    "print('Error in calculated position')\n",
    "print('  -> fi = {:.3f} Nm'.format(np.abs(fi_check_rad-fiX)/mat.pi*180*60))\n",
    "print('  -> la = {:.3f} Nm'.format(np.abs(la_check_rad-laX)/mat.pi*180*60))\n"
   ]
  }
 ],
 "metadata": {
  "kernelspec": {
   "display_name": "Python 3 (default)",
   "language": "python",
   "name": "python3"
  },
  "language_info": {
   "codemirror_mode": {
    "name": "ipython",
    "version": 3
   },
   "file_extension": ".py",
   "mimetype": "text/x-python",
   "name": "python",
   "nbconvert_exporter": "python",
   "pygments_lexer": "ipython3",
   "version": "3.11.4"
  }
 },
 "nbformat": 4,
 "nbformat_minor": 5
}
