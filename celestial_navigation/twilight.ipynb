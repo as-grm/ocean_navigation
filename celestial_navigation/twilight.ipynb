{
 "cells": [
  {
   "cell_type": "code",
   "execution_count": null,
   "id": "4bcbd631-cdb6-40ab-aaf2-93bb975b0df7",
   "metadata": {},
   "outputs": [],
   "source": [
    "import os, sys\n",
    "\n",
    "pp = '../nav_tools/'\n",
    "sys.path.append(pp)\n",
    "\n",
    "import navtools as nt\n",
    "import celestialdata as cdata\n",
    "cd = cdata.CelestialData(pp)"
   ]
  },
  {
   "cell_type": "code",
   "execution_count": null,
   "id": "930cca83-e064-4f31-a1d8-c2e81ed6982d",
   "metadata": {},
   "outputs": [],
   "source": [
    "# *** Inputs ***\n",
    "date = [2023,8,18] # [yyyy, mm, dd]\n",
    "fi = [45,0,'N']    # [deg, min, N/S]\n",
    "la = [15,0,'E']    # [deg, min, E/W]\n",
    "h = 20             # observer height in [m]\n",
    "\n",
    "\n",
    "pos = [nt.nav2dd(fi),nt.nav2dd(la),h]\n",
    "\n",
    "srs = cd.get_sunrise_sunset(date,pos)\n",
    "\n",
    "print('SUN twilight:')\n",
    "print('  -> rise: {:02d}:{:02d}:{:02d} UTC'.format(srs[0][3],srs[0][4],srs[0][5]))\n",
    "print('  ->  set: {:02d}:{:02d}:{:02d} UTC'.format(srs[1][3],srs[1][4],srs[1][5]))"
   ]
  }
 ],
 "metadata": {
  "kernelspec": {
   "display_name": "Python 3 (default)",
   "language": "python",
   "name": "python3"
  },
  "language_info": {
   "codemirror_mode": {
    "name": "ipython",
    "version": 3
   },
   "file_extension": ".py",
   "mimetype": "text/x-python",
   "name": "python",
   "nbconvert_exporter": "python",
   "pygments_lexer": "ipython3",
   "version": "3.11.4"
  }
 },
 "nbformat": 4,
 "nbformat_minor": 5
}
