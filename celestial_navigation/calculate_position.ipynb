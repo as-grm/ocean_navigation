{
 "cells": [
  {
   "cell_type": "markdown",
   "id": "f56e909f-f797-421e-9e16-3ddd6f87dfae",
   "metadata": {},
   "source": [
    "# Metoda računanja položaja\n",
    "\n",
    "Namesto, da bi s pomočjo LOP položaj narisali ga lahko tudi izračunamo. Metoda je opisana v **Admirality Almanach**.\n",
    "\n",
    "Imamo podan naš domnevni položaj **AP** ($\\varphi_\\text{AP},\\lambda_\\text{AP}$) in razliko v višini $\\Delta h_i$ er azimut $\\omega_i$ za vsako nebesno telo. S temi podatki lahko nato po naslednji metodi določimo računsko položaj.\n",
    "\n",
    "Najprej poračunamo koeficiente $A_1,B_1,C_1,D_1,E_1,G_1$ s formulami\n",
    "\n",
    "$$ A_1 = \\sum_{i=1}^n \\cos^2 \\omega_i, ~~~ B_1 = \\sum_{i=1}^n \\sin \\omega_i \\: \\cos \\omega_i, ~~~ C_1 = \\sum_{i=1}^n \\sin^2 \\omega_i, ~~~ D_1 = \\sum_{i=1}^n \\Delta h_i \\: \\cos \\omega_i, ~~~ E_1 = \\sum_{i=1}^n \\Delta h_i \\: \\sin \\omega_i, ~~~ G_1 = A_1 \\cdot C_1 - B_1^2,$$\n",
    "\n",
    "kjer je $i$ število nebesnih teles, ki smo jih imzmerili. Ko izračunamo koeficiente, lahko določimo položaj opazovlaca\n",
    "\n",
    "$$ \\varphi_1 = \\varphi_\\text{AP} + \\frac{C_1 \\cdot D_1 - B_1 \\cdot E_1}{G_1}, ~~~~ \\lambda_1 = \\lambda_\\text{AP} + \\frac{A_1 \\cdot E_1 - B_1 \\cdot D_1}{G_1 \\cdot \\cos \\varphi_\\text{AP}}.$$\n",
    "\n",
    "Sedaj lahko z novim položajem ($\\varphi_1, \\lambda_1$), ponovno izračunamo $\\Delta h_i$ in $\\omega_i$. Tako lahko ponovimo celoten postopek določitve koeficientov $A_2,B_2,C_2,D_2,E_2,G_2$ in izračunamo drugi novi položaj\n",
    "\n",
    "$$ \\varphi_2 = \\varphi_1 + \\frac{C_2 \\cdot D_2 - B_2 \\cdot E_2}{G_2}, ~~~~ \\lambda_2 = \\lambda_1 + \\frac{A_2 \\cdot E_2 - B_2 \\cdot D_2}{G_2 \\cdot \\cos \\varphi_1}.$$\n",
    "\n",
    "To ponavljamo toliko časa, dokler se ($\\varphi_k, \\lambda_k$) in ($\\varphi_{k+1}, \\lambda_{k+1}$) ne razlikujeto poljubno natančno. \n",
    "\n",
    "Iteracijo v izračunu uvedemo zato, ker LOP ni premica ampak krožnica. Bližje kot sta računski položaj in pravi položaj manjša je napaka, te metode, ki temelji na domnevi, da je LOP premica.\n",
    "\n",
    "<hr>"
   ]
  },
  {
   "cell_type": "code",
   "execution_count": null,
   "id": "e2aa5cc7-bc53-4b15-8965-c555b6394568",
   "metadata": {},
   "outputs": [],
   "source": [
    "import os, sys\n",
    "import subprocess as sp\n",
    "\n",
    "# add custom modules and astro data path \n",
    "pp = '../nav_tools/'\n",
    "sys.path.append(pp)"
   ]
  },
  {
   "cell_type": "code",
   "execution_count": null,
   "id": "e372b935-a13f-4cbf-b8f3-95cb12371348",
   "metadata": {},
   "outputs": [],
   "source": [
    "import math as mat\n",
    "import numpy as np\n",
    "import matplotlib.pyplot as mpl\n",
    "mpl.rcParams['text.usetex'] = True\n",
    "mpl.rcParams.update({'font.size': 7})\n",
    "\n",
    "import celestialdata as cdata\n",
    "import navigationalstars as ns\n",
    "import navtools as nt"
   ]
  },
  {
   "cell_type": "code",
   "execution_count": null,
   "id": "d7312ba2-ab11-40f2-832d-6e3462252ee0",
   "metadata": {},
   "outputs": [],
   "source": [
    "def get_coefficients(dh,w,nn):\n",
    "\n",
    "    A = 0\n",
    "    for i in range(nn):\n",
    "        A += mat.cos(nt.deg2rad(w[i]))**2\n",
    "\n",
    "    B = 0\n",
    "    for i in range(nn):\n",
    "        B += mat.sin(nt.deg2rad(w[i]))*mat.cos(nt.deg2rad(w[i]))\n",
    "\n",
    "    C = 0\n",
    "    for i in range(nn):\n",
    "        C += mat.sin(nt.deg2rad(w[i]))**2\n",
    "\n",
    "    D = 0\n",
    "    for i in range(nn):\n",
    "        D += dh[i]*mat.cos(nt.deg2rad(w[i]))\n",
    "\n",
    "    E = 0\n",
    "    for i in range(nn):\n",
    "        E += dh[i]*mat.sin(nt.deg2rad(w[i]))\n",
    "\n",
    "    G = A*C - B**2\n",
    "\n",
    "    return [A,B,C,D,E,G]"
   ]
  },
  {
   "cell_type": "code",
   "execution_count": null,
   "id": "dc69f1fe-e3c2-4231-ab50-5ae9840e6a0f",
   "metadata": {},
   "outputs": [],
   "source": [
    "def get_dh_array(Ho, Hc, nn, convert=False):\n",
    "\n",
    "    dhA = []\n",
    "    for i in range(nn):\n",
    "        if convert:\n",
    "            dh = nt.dms2dd(Ho[i]) - nt.dms2dd(Hc[i]) \n",
    "        else:\n",
    "            dh = Ho[i] - Hc[i]\n",
    "        dhA.append(dh)\n",
    "\n",
    "    return np.array(dhA)"
   ]
  },
  {
   "cell_type": "code",
   "execution_count": null,
   "id": "a9790cdc-0aaf-4a8f-aaac-52df6b09a24e",
   "metadata": {},
   "outputs": [],
   "source": [
    "def get_position(P,dh,w,nn):\n",
    "\n",
    "    [A,B,C,D,E,G] = get_coefficients(dh,w,nn)\n",
    "    \n",
    "    fi = P[0] + (C*D - B*E)/G\n",
    "    la = P[1] + (A*E - B*D)/(G * mat.cos(nt.deg2rad(P[0])))\n",
    "\n",
    "    return [fi,la]"
   ]
  },
  {
   "cell_type": "code",
   "execution_count": null,
   "id": "480295d2-aa2f-430c-8dcc-b7f801571b80",
   "metadata": {},
   "outputs": [],
   "source": [
    "# **************\n",
    "# *** Primer ***\n",
    "# **************\n",
    "\n",
    "# Date: 2021/05/11, UT: 19:00:00\n",
    "# Izmerimo: Alioth, Regulus in Elnath\n",
    "# Sešteti položaj: 41 N, 20 W\n",
    "# Pravi položaj: 41 30'N, 20 30'W (za kontrolo)\n",
    "\n",
    "P = [41, -20]                        # assumed position\n",
    "cbn = ['Alioth','Regulus','Elnath']  # imena nebesnih teles\n",
    "Ho = [[49,38.2],[56,24.1],[45,57.1]] # izmerjene višine [deg, min]\n",
    "Hc = [[49,35],[57,01.5],[45,34.1]]   # izračunane višine [deg, min]\n",
    "w = [47.9, 147.1, 271.1]             # izračunani azimut\n",
    "nn = 3                               # št. izmerjenih nebesnih teles\n",
    "\n",
    "dh = get_dh_array(Ho,Hc,nn,True)     # izračunamo razliko v višini in rezultat izpišemo\n",
    "print('razlika višine:')\n",
    "for i in range(nn):\n",
    "    print(' -> {:s}: {:.1f} min'.format(cbn[i],dh[i]*60))\n",
    "\n",
    "[fi, la] = get_position(P,dh,w,nn)   # izračunamo novi položaj\n",
    "\n",
    "print()\n",
    "print(' AP: fi={:s}, la={:s}'.format(nt.prettyPrintLat(P[0]),nt.prettyPrintLong(P[1])))\n",
    "print('    ------------------------------')\n",
    "print('Fix: fi={:s}, la={:s}'.format(nt.prettyPrintLat(fi),nt.prettyPrintLong(la)))"
   ]
  }
 ],
 "metadata": {
  "kernelspec": {
   "display_name": "Python 3 (ipykernel)",
   "language": "python",
   "name": "python3"
  },
  "language_info": {
   "codemirror_mode": {
    "name": "ipython",
    "version": 3
   },
   "file_extension": ".py",
   "mimetype": "text/x-python",
   "name": "python",
   "nbconvert_exporter": "python",
   "pygments_lexer": "ipython3",
   "version": "3.11.6"
  }
 },
 "nbformat": 4,
 "nbformat_minor": 5
}
