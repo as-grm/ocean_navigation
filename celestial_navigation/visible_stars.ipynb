{
 "cells": [
  {
   "cell_type": "code",
   "execution_count": 1,
   "id": "remarkable-clone",
   "metadata": {},
   "outputs": [],
   "source": [
    "import os, sys\n",
    "import subprocess as sp\n",
    "\n",
    "# add custom modules and astro data path \n",
    "pp = '../nav_tools/'\n",
    "sys.path.append(pp)\n",
    "\n",
    "# needed by basemap\n",
    "os.environ['PROJ_LIB'] = '/opt/miniconda3/envs/astrolab/share/proj'"
   ]
  },
  {
   "cell_type": "code",
   "execution_count": 2,
   "id": "lesser-christianity",
   "metadata": {},
   "outputs": [],
   "source": [
    "import numpy as np\n",
    "import matplotlib.pyplot as mpl\n",
    "mpl.rcParams['text.usetex'] = True\n",
    "mpl.rcParams.update({'font.size': 7})\n",
    "\n",
    "import celestialdata as cdata\n",
    "import navigationalstars as ns\n",
    "import navtools as nt"
   ]
  },
  {
   "cell_type": "code",
   "execution_count": 3,
   "id": "445ca8d3",
   "metadata": {},
   "outputs": [],
   "source": [
    "def findVisibleStars(date, time, pos, h0, h1, ns_db):\n",
    "    \n",
    "    t = [date[2],date[1],date[0],time[0],time[1],time[2]]\n",
    "    star_ids = ns_db.keys()\n",
    "    \n",
    "    vs = []\n",
    "    for s_id in star_ids:\n",
    "        sdd = cd.get_star_data(s_id,t)\n",
    "        saz = cd.get_star_altaz(s_id,t,pos)\n",
    "        if saz['alt'] > h0 and saz['alt'] < h1:\n",
    "            s_name = ns_db[s_id][0]\n",
    "            vs.append({'name':s_name, 'alt':saz['alt'], 'az':saz['az'], 'dec':sdd['dec'], 'sha':sdd['sha'], 'sha':sdd['sha']})\n",
    "    \n",
    "    return vs"
   ]
  },
  {
   "cell_type": "code",
   "execution_count": 4,
   "id": "7738523a-9343-41ff-94cf-c3e7fceff77d",
   "metadata": {},
   "outputs": [],
   "source": [
    "def generateLatexInput(date,time,pos,stars,gha_a,obs_h,h0,h1):\n",
    "    \n",
    "    fo = open('body.tex','w')\n",
    "    \n",
    "    str_fi = r\"$\\varphi={:02d}^\\circ \\, {:04.1f}' \\, \\mathrm{{{:s}}}$\".format(pos[0][0],pos[0][1],pos[0][2])\n",
    "    str_la = r\"$\\lambda={:03d}^\\circ \\, {:04.1f}' \\, \\mathrm{{{:s}}}$\".format(pos[1][0],pos[1][1],pos[1][2])\n",
    "    \n",
    "    fo.write(r'\\textbf{{Position}}: {:s}, {:s}\\\\[2mm]'.format(str_fi, str_la)); fo.write('\\n')\n",
    "    fo.write(r'\\textbf{{Date}} ({{\\footnotesize dd/mm/yyyy}}): {:02d}/{:02d}/{:04d}\\\\[2mm]'.format(date[0],date[1],date[2])); fo.write('\\n')\n",
    "    fo.write(r'\\textbf{{Time}}: {:02d}:{:02d}:{:02d}\\\\[2mm]'.format(time[0],time[1],time[2])); fo.write('\\n')\n",
    "    \n",
    "    gha_a_dm = nt.dd2dms(gha_a)\n",
    "    str_gha_a = r\"${:02d}^\\circ \\, {:04.1f}'$\".format(int(gha_a_dm[0]), gha_a_dm[1])\n",
    "    fo.write(r'$\\textbf{{\\textsc{{Gha}}}}_{{\\aries}}:$ {:s}\\\\[2mm]'.format(str_gha_a)); fo.write('\\n')\n",
    "    fo.write(r'\\textbf{{Observer height}}: {:04.1f}$\\,$m\\\\[2mm]'.format(obs_h)); fo.write('\\n')\n",
    "    fo.write(r'\\textbf{{Altitude limit}}: $h_{{\\mathrm{{min}}}}={:02d}^\\circ$; $h_{{\\mathrm{{\\max}}}}={:02d}^\\circ$\\\\'.format(int(h0),int(h1))); fo.write('\\n')\n",
    "    \n",
    "    fo.write(r'\\begin{center}'); fo.write('\\n')\n",
    "    fo.write(r'   \\includegraphics[width=16cm]{visible_stars.pdf}'); fo.write('\\n')\n",
    "    fo.write(r'\\end{center}'); fo.write('\\n')\n",
    "    \n",
    "    fo.write(r'\\vspace{5mm}'); fo.write('\\n')\n",
    "    fo.write(r'\\begin{center}'); fo.write('\\n')\n",
    "    fo.write(r'\\footnotesize'); fo.write('\\n')\n",
    "    fo.write(r'\\begin{tabular}{l l r r r r}\\hline'); fo.write('\\n')\n",
    "    fo.write(r' \\multicolumn{1}{c}{\\#} & \\multicolumn{1}{c}{Name} & \\multicolumn{1}{c}{$h$} & \\multicolumn{1}{c}{$\\omega$} & \\multicolumn{1}{c}{$\\delta$} & \\multicolumn{1}{c}{\\textsc{Sha}}\\\\ \\hline'); fo.write('\\n')\n",
    "    i = 1\n",
    "    for star in stars:\n",
    "        h_dm = nt.dd2dms(star['alt'])\n",
    "        str_h = r\"${:02d}^\\circ \\, {:04.1f}'$\".format(int(h_dm[0]), h_dm[1])\n",
    "        str_w = r'${:05.1f}^\\circ$'.format(star['az'])\n",
    "        dec_dm = nt.dd2dms(star['dec'])\n",
    "        if star['dec'] < 0:\n",
    "            str_dec = r\"${:02d}^\\circ \\, {:04.1f}' \\, \\mathrm{{S}}$\".format(int(np.abs(dec_dm[0])), dec_dm[1])\n",
    "        else:\n",
    "            str_dec = r\"${:02d}^\\circ \\, {:04.1f}' \\, \\mathrm{{N}}$\".format(int(np.abs(dec_dm[0])), dec_dm[1])\n",
    "        sha_dm = nt.dd2dms(star['sha'])\n",
    "        str_sha = r\"${:02d}^\\circ \\, {:04.1f}'$\".format(int(sha_dm[0]), sha_dm[1])\n",
    "        fo.write(r'   {:02d} & {:s} & {:s} & {:s} & {:s} & {:s}\\\\'.format(i, star['name'], str_h, str_w, str_dec, str_sha)); fo.write('\\n')\n",
    "        \n",
    "        i += 1\n",
    "    fo.write(r'\\hline'); fo.write('\\n')\n",
    "    fo.write(r'\\end{tabular}'); fo.write('\\n')\n",
    "    fo.write(r'\\end{center}'); fo.write('\\n')\n",
    "    \n",
    "    fo.close()\n",
    "    \n",
    "    # run latex compile and clean\n",
    "    p = sp.Popen(['xelatex','today_stars.tex'], stdout = sp.PIPE)\n",
    "    p.wait()"
   ]
  },
  {
   "cell_type": "code",
   "execution_count": 5,
   "id": "individual-liability",
   "metadata": {},
   "outputs": [
    {
     "ename": "OSError",
     "evalue": "cannot download ftp://ftp.iers.org/products/eop/rapid/standard/finals2000A.all because <urlopen error ftp error: EOFError()>",
     "output_type": "error",
     "traceback": [
      "\u001b[0;31m---------------------------------------------------------------------------\u001b[0m",
      "\u001b[0;31mOSError\u001b[0m                                   Traceback (most recent call last)",
      "Cell \u001b[0;32mIn [5], line 1\u001b[0m\n\u001b[0;32m----> 1\u001b[0m cd \u001b[38;5;241m=\u001b[39m \u001b[43mcdata\u001b[49m\u001b[38;5;241;43m.\u001b[39;49m\u001b[43mCelestialData\u001b[49m\u001b[43m(\u001b[49m\u001b[43mpp\u001b[49m\u001b[43m)\u001b[49m\n\u001b[1;32m      2\u001b[0m ns_db \u001b[38;5;241m=\u001b[39m cd\u001b[38;5;241m.\u001b[39mget_nav_stars_db()\n\u001b[1;32m      4\u001b[0m date \u001b[38;5;241m=\u001b[39m [\u001b[38;5;241m9\u001b[39m,\u001b[38;5;241m11\u001b[39m,\u001b[38;5;241m2022\u001b[39m]\n",
      "File \u001b[0;32m~/classes/oce-nav/git-src/celestial_navigation/../nav_tools/celestialdata.py:27\u001b[0m, in \u001b[0;36mCelestialData.__init__\u001b[0;34m(self, path)\u001b[0m\n\u001b[1;32m     24\u001b[0m load \u001b[38;5;241m=\u001b[39m sfa\u001b[38;5;241m.\u001b[39mLoader(\u001b[38;5;28mself\u001b[39m\u001b[38;5;241m.\u001b[39mroot_path)\n\u001b[1;32m     26\u001b[0m \u001b[38;5;66;03m# Online time scale object refreshed every 30 days            \u001b[39;00m\n\u001b[0;32m---> 27\u001b[0m \u001b[38;5;28mself\u001b[39m\u001b[38;5;241m.\u001b[39mts \u001b[38;5;241m=\u001b[39m \u001b[38;5;28;43mself\u001b[39;49m\u001b[38;5;241;43m.\u001b[39;49m\u001b[43mget_timescale\u001b[49m\u001b[43m(\u001b[49m\u001b[43mload\u001b[49m\u001b[43m)\u001b[49m\n\u001b[1;32m     29\u001b[0m \u001b[38;5;66;03m# load the Hipparcos catalog as a 118,218 row Pandas dataframe.\u001b[39;00m\n\u001b[1;32m     30\u001b[0m \u001b[38;5;28mself\u001b[39m\u001b[38;5;241m.\u001b[39mdf \u001b[38;5;241m=\u001b[39m \u001b[38;5;28mself\u001b[39m\u001b[38;5;241m.\u001b[39mget_star_db(load)\n",
      "File \u001b[0;32m~/classes/oce-nav/git-src/celestial_navigation/../nav_tools/celestialdata.py:223\u001b[0m, in \u001b[0;36mCelestialData.get_timescale\u001b[0;34m(self, load)\u001b[0m\n\u001b[1;32m    221\u001b[0m     load\u001b[38;5;241m.\u001b[39mdownload(db)\n\u001b[1;32m    222\u001b[0m \u001b[38;5;28;01melif\u001b[39;00m load\u001b[38;5;241m.\u001b[39mdays_old(db) \u001b[38;5;241m>\u001b[39m \u001b[38;5;241m30.0\u001b[39m: \u001b[38;5;66;03m# check if new is on\u001b[39;00m\n\u001b[0;32m--> 223\u001b[0m     \u001b[43mload\u001b[49m\u001b[38;5;241;43m.\u001b[39;49m\u001b[43mdownload\u001b[49m\u001b[43m(\u001b[49m\u001b[43mdb\u001b[49m\u001b[43m)\u001b[49m \n\u001b[1;32m    225\u001b[0m ts \u001b[38;5;241m=\u001b[39m load\u001b[38;5;241m.\u001b[39mtimescale(builtin\u001b[38;5;241m=\u001b[39m\u001b[38;5;28;01mFalse\u001b[39;00m) \u001b[38;5;66;03m# timescale \u001b[39;00m\n\u001b[1;32m    227\u001b[0m \u001b[38;5;28;01mreturn\u001b[39;00m ts\n",
      "File \u001b[0;32m/opt/miniconda3/envs/astrolab/lib/python3.10/site-packages/skyfield/iokit.py:299\u001b[0m, in \u001b[0;36mLoader.download\u001b[0;34m(self, url, filename, backup)\u001b[0m\n\u001b[1;32m    297\u001b[0m     filename \u001b[38;5;241m=\u001b[39m urlparse(url)\u001b[38;5;241m.\u001b[39mpath\u001b[38;5;241m.\u001b[39msplit(\u001b[38;5;124m'\u001b[39m\u001b[38;5;124m/\u001b[39m\u001b[38;5;124m'\u001b[39m)[\u001b[38;5;241m-\u001b[39m\u001b[38;5;241m1\u001b[39m]\n\u001b[1;32m    298\u001b[0m path \u001b[38;5;241m=\u001b[39m \u001b[38;5;28mself\u001b[39m\u001b[38;5;241m.\u001b[39mpath_to(filename)\n\u001b[0;32m--> 299\u001b[0m \u001b[43mdownload\u001b[49m\u001b[43m(\u001b[49m\u001b[43murl\u001b[49m\u001b[43m,\u001b[49m\u001b[43m \u001b[49m\u001b[43mpath\u001b[49m\u001b[43m,\u001b[49m\u001b[43m \u001b[49m\u001b[38;5;28;43mself\u001b[39;49m\u001b[38;5;241;43m.\u001b[39;49m\u001b[43mverbose\u001b[49m\u001b[43m,\u001b[49m\u001b[43m \u001b[49m\u001b[43mbackup\u001b[49m\u001b[38;5;241;43m=\u001b[39;49m\u001b[43mbackup\u001b[49m\u001b[43m)\u001b[49m\n\u001b[1;32m    300\u001b[0m \u001b[38;5;28;01mreturn\u001b[39;00m path\n",
      "File \u001b[0;32m/opt/miniconda3/envs/astrolab/lib/python3.10/site-packages/skyfield/iokit.py:525\u001b[0m, in \u001b[0;36mdownload\u001b[0;34m(url, path, verbose, blocksize, backup)\u001b[0m\n\u001b[1;32m    523\u001b[0m     e2 \u001b[38;5;241m=\u001b[39m \u001b[38;5;167;01mIOError\u001b[39;00m(\u001b[38;5;124m'\u001b[39m\u001b[38;5;124mcannot download \u001b[39m\u001b[38;5;132;01m{0}\u001b[39;00m\u001b[38;5;124m because \u001b[39m\u001b[38;5;132;01m{1}\u001b[39;00m\u001b[38;5;124m'\u001b[39m\u001b[38;5;241m.\u001b[39mformat(url, e))\n\u001b[1;32m    524\u001b[0m     e2\u001b[38;5;241m.\u001b[39m__cause__ \u001b[38;5;241m=\u001b[39m \u001b[38;5;28;01mNone\u001b[39;00m\n\u001b[0;32m--> 525\u001b[0m     \u001b[38;5;28;01mraise\u001b[39;00m e2\n\u001b[1;32m    527\u001b[0m \u001b[38;5;28;01mif\u001b[39;00m verbose \u001b[38;5;129;01mis\u001b[39;00m \u001b[38;5;28;01mNone\u001b[39;00m:\n\u001b[1;32m    528\u001b[0m     verbose \u001b[38;5;241m=\u001b[39m sys\u001b[38;5;241m.\u001b[39mstderr\u001b[38;5;241m.\u001b[39misatty()\n",
      "\u001b[0;31mOSError\u001b[0m: cannot download ftp://ftp.iers.org/products/eop/rapid/standard/finals2000A.all because <urlopen error ftp error: EOFError()>"
     ]
    }
   ],
   "source": [
    "cd = cdata.CelestialData(pp)\n",
    "ns_db = cd.get_nav_stars_db()\n",
    "\n",
    "date = [9,11,2022]\n",
    "time = [20,0,0]\n",
    "fi = [46,6.08,'N']\n",
    "la = [13,38.85,'E']\n",
    "h = 20.0\n",
    "pos = [nt.nav2dd(fi), nt.nav2dd(la), h]\n",
    "\n",
    "h0 = 20.0\n",
    "h1 = 80.0\n",
    "stars_vis = findVisibleStars(date, time, pos, h0, h1, ns_db)\n",
    "stars_vis.sort(key=lambda k : k['az'])\n",
    "\n",
    "i = 1\n",
    "data = []\n",
    "for star in stars_vis:\n",
    "    print('{:02d} - {:11s}  h = {:s}  {:s} = {:s}'.format(i,star['name'],nt.prettyPrintAlt(star['alt']), nt.u_omega, nt.prettyPrintAz(star['az'])))\n",
    "    data.append([star['az'],star['alt']])\n",
    "    i += 1\n",
    "    \n",
    "data = np.array(data)\n",
    "\n",
    "fig, ax = mpl.subplots()\n",
    "i = 1\n",
    "for da in data:\n",
    "    ax.plot(da[0], da[1], marker='*', markersize=3, color='red')\n",
    "    ax.text(da[0]-4, da[1]+1, '{:02d}'.format(i))\n",
    "    i += 1\n",
    "ax.grid()\n",
    "ax.set_xlabel('azimuth - $\\omega$[deg]')\n",
    "ax.set_ylabel('altitude - $h$[deg]')\n",
    "ax.set_xlim([-10, 410])\n",
    "ax.set_ylim([h0-5, h1+5])\n",
    "fig.tight_layout()\n",
    "fig.savefig('visible_stars.pdf')"
   ]
  },
  {
   "cell_type": "code",
   "execution_count": null,
   "id": "1d265494",
   "metadata": {},
   "outputs": [],
   "source": [
    "# generate latex document\n",
    "t = [date[2],date[1],date[0],time[0],time[1],time[2]]\n",
    "gha_a = cd.get_aries_gha(t)\n",
    "\n",
    "generateLatexInput(date,time,[fi,la],stars_vis,gha_a,h,h0,h1)\n",
    "os.system(\"rm -rf body.tex visible_stars.pdf *.aux *.out *.log\")"
   ]
  },
  {
   "cell_type": "code",
   "execution_count": null,
   "id": "26d6fd02-0c7a-4048-b8ea-d6d58fd98ea4",
   "metadata": {},
   "outputs": [],
   "source": []
  }
 ],
 "metadata": {
  "kernelspec": {
   "display_name": "AstroLab",
   "language": "python",
   "name": "astrolab"
  },
  "language_info": {
   "codemirror_mode": {
    "name": "ipython",
    "version": 3
   },
   "file_extension": ".py",
   "mimetype": "text/x-python",
   "name": "python",
   "nbconvert_exporter": "python",
   "pygments_lexer": "ipython3",
   "version": "3.10.6"
  }
 },
 "nbformat": 4,
 "nbformat_minor": 5
}
