{
 "cells": [
  {
   "cell_type": "code",
   "execution_count": 1,
   "id": "remarkable-clone",
   "metadata": {},
   "outputs": [],
   "source": [
    "import os, sys\n",
    "import subprocess as sp\n",
    "\n",
    "# add custom modules and astro data path \n",
    "pp = '../nav_tools/'\n",
    "sys.path.append(pp)\n",
    "\n",
    "# needed by basemap\n",
    "os.environ['PROJ_LIB'] = '/opt/miniconda3/envs/astrolab/share/proj'"
   ]
  },
  {
   "cell_type": "code",
   "execution_count": 2,
   "id": "lesser-christianity",
   "metadata": {},
   "outputs": [],
   "source": [
    "import numpy as np\n",
    "import matplotlib.pyplot as mpl\n",
    "mpl.rcParams['text.usetex'] = True\n",
    "mpl.rcParams.update({'font.size': 7})\n",
    "\n",
    "import celestialdata as cdata\n",
    "import navigationalstars as ns\n",
    "import navtools as nt"
   ]
  },
  {
   "cell_type": "code",
   "execution_count": 3,
   "id": "445ca8d3",
   "metadata": {},
   "outputs": [],
   "source": [
    "def findVisibleStars(date, time, pos, h0, h1, ns_db):\n",
    "    \n",
    "    t = [date[2],date[1],date[0],time[0],time[1],time[2]]\n",
    "    star_ids = ns_db.keys()\n",
    "    \n",
    "    vs = []\n",
    "    for s_id in star_ids:\n",
    "        sdd = cd.get_star_data(s_id,t)\n",
    "        saz = cd.get_star_altaz(s_id,t,pos)\n",
    "        if saz['alt'] > h0 and saz['alt'] < h1:\n",
    "            s_name = ns_db[s_id][0]\n",
    "            vs.append({'name':s_name, 'alt':saz['alt'], 'az':saz['az'], 'dec':sdd['dec'], 'sha':sdd['sha'], 'sha':sdd['sha']})\n",
    "    \n",
    "    return vs"
   ]
  },
  {
   "cell_type": "code",
   "execution_count": 4,
   "id": "7738523a-9343-41ff-94cf-c3e7fceff77d",
   "metadata": {},
   "outputs": [],
   "source": [
    "def generateLatexInput(date,time,pos,stars,gha_a,obs_h,h0,h1):\n",
    "    \n",
    "    fo = open('body.tex','w')\n",
    "    \n",
    "    str_fi = r\"$\\varphi={:02d}^\\circ \\, {:04.1f}' \\, \\mathrm{{{:s}}}$\".format(pos[0][0],pos[0][1],pos[0][2])\n",
    "    str_la = r\"$\\lambda={:03d}^\\circ \\, {:04.1f}' \\, \\mathrm{{{:s}}}$\".format(pos[1][0],pos[1][1],pos[1][2])\n",
    "    \n",
    "    fo.write(r'\\textbf{{Position}}: {:s}, {:s}\\\\[2mm]'.format(str_fi, str_la)); fo.write('\\n')\n",
    "    fo.write(r'\\textbf{{Date}} ({{\\footnotesize dd/mm/yyyy}}): {:02d}/{:02d}/{:04d}\\\\[2mm]'.format(date[0],date[1],date[2])); fo.write('\\n')\n",
    "    fo.write(r'\\textbf{{Time}}: {:02d}:{:02d}:{:02d}\\\\[2mm]'.format(time[0],time[1],time[2])); fo.write('\\n')\n",
    "    \n",
    "    gha_a_dm = nt.dd2dms(gha_a)\n",
    "    str_gha_a = r\"${:02d}^\\circ \\, {:04.1f}'$\".format(int(gha_a_dm[0]), gha_a_dm[1])\n",
    "    fo.write(r'$\\textbf{{\\textsc{{Gha}}}}_{{\\aries}}:$ {:s}\\\\[2mm]'.format(str_gha_a)); fo.write('\\n')\n",
    "    fo.write(r'\\textbf{{Observer height}}: {:04.1f}$\\,$m\\\\[2mm]'.format(obs_h)); fo.write('\\n')\n",
    "    fo.write(r'\\textbf{{Altitude limit}}: $h_{{\\mathrm{{min}}}}={:02d}^\\circ$; $h_{{\\mathrm{{\\max}}}}={:02d}^\\circ$\\\\'.format(int(h0),int(h1))); fo.write('\\n')\n",
    "    \n",
    "    fo.write(r'\\begin{center}'); fo.write('\\n')\n",
    "    fo.write(r'   \\includegraphics[width=16cm]{visible_stars.pdf}'); fo.write('\\n')\n",
    "    fo.write(r'\\end{center}'); fo.write('\\n')\n",
    "    \n",
    "    fo.write(r'\\vspace{5mm}'); fo.write('\\n')\n",
    "    fo.write(r'\\begin{center}'); fo.write('\\n')\n",
    "    fo.write(r'\\footnotesize'); fo.write('\\n')\n",
    "    fo.write(r'\\begin{tabular}{l l r r r r}\\hline'); fo.write('\\n')\n",
    "    fo.write(r' \\multicolumn{1}{c}{\\#} & \\multicolumn{1}{c}{Name} & \\multicolumn{1}{c}{$h$} & \\multicolumn{1}{c}{$\\omega$} & \\multicolumn{1}{c}{$\\delta$} & \\multicolumn{1}{c}{\\textsc{Sha}}\\\\ \\hline'); fo.write('\\n')\n",
    "    i = 1\n",
    "    for star in stars:\n",
    "        h_dm = nt.dd2dms(star['alt'])\n",
    "        str_h = r\"${:02d}^\\circ \\, {:04.1f}'$\".format(int(h_dm[0]), h_dm[1])\n",
    "        str_w = r'${:05.1f}^\\circ$'.format(star['az'])\n",
    "        dec_dm = nt.dd2dms(star['dec'])\n",
    "        if star['dec'] < 0:\n",
    "            str_dec = r\"${:02d}^\\circ \\, {:04.1f}' \\, \\mathrm{{S}}$\".format(int(np.abs(dec_dm[0])), dec_dm[1])\n",
    "        else:\n",
    "            str_dec = r\"${:02d}^\\circ \\, {:04.1f}' \\, \\mathrm{{N}}$\".format(int(np.abs(dec_dm[0])), dec_dm[1])\n",
    "        sha_dm = nt.dd2dms(star['sha'])\n",
    "        str_sha = r\"${:02d}^\\circ \\, {:04.1f}'$\".format(int(sha_dm[0]), sha_dm[1])\n",
    "        fo.write(r'   {:02d} & {:s} & {:s} & {:s} & {:s} & {:s}\\\\'.format(i, star['name'], str_h, str_w, str_dec, str_sha)); fo.write('\\n')\n",
    "        \n",
    "        i += 1\n",
    "    fo.write(r'\\hline'); fo.write('\\n')\n",
    "    fo.write(r'\\end{tabular}'); fo.write('\\n')\n",
    "    fo.write(r'\\end{center}'); fo.write('\\n')\n",
    "    \n",
    "    fo.close()\n",
    "    \n",
    "    # run latex compile and clean\n",
    "    p = sp.Popen(['xelatex','today_stars.tex'], stdout = sp.PIPE)\n",
    "    p.wait()"
   ]
  },
  {
   "cell_type": "code",
   "execution_count": 7,
   "id": "individual-liability",
   "metadata": {},
   "outputs": [
    {
     "name": "stdout",
     "output_type": "stream",
     "text": [
      "01 - Kochab       h = 38°23.84′  ω = 018.93°\n",
      "02 - Dubhe        h = 55°02.32′  ω = 043.25°\n",
      "03 - Alioth       h = 39°57.69′  ω = 046.67°\n",
      "04 - Alkaid       h = 29°35.05′  ω = 048.28°\n",
      "05 - Denebola     h = 26°14.40′  ω = 096.37°\n",
      "06 - Regulus      h = 40°48.94′  ω = 120.38°\n",
      "07 - Alphard      h = 28°17.21′  ω = 143.94°\n",
      "08 - Pollux       h = 71°14.44′  ω = 162.97°\n",
      "09 - Procyon      h = 48°52.54′  ω = 173.07°\n",
      "10 - Sirius       h = 26°37.41′  ω = 189.66°\n",
      "11 - Betelgeuse   h = 47°07.67′  ω = 212.21°\n",
      "12 - Alnilam      h = 37°22.25′  ω = 213.75°\n",
      "13 - Rigel        h = 28°48.00′  ω = 216.34°\n",
      "14 - Bellatrix    h = 43°03.80′  ω = 221.21°\n",
      "15 - Elnath       h = 61°34.53′  ω = 242.06°\n",
      "16 - Aldebaran    h = 44°49.63′  ω = 243.02°\n",
      "17 - Menkar       h = 20°22.08′  ω = 254.10°\n",
      "18 - Hamal        h = 24°32.42′  ω = 279.16°\n",
      "19 - Capella      h = 68°38.83′  ω = 281.07°\n",
      "20 - Mirfak       h = 51°20.12′  ω = 297.90°\n",
      "21 - Schedar      h = 32°20.64′  ω = 320.17°\n",
      "22 - Polaris      h = 46°21.48′  ω = 359.15°\n"
     ]
    },
    {
     "data": {
      "image/png": "[encoded data removed]",
      "text/plain": [
       "<Figure size 432x288 with 1 Axes>"
      ]
     },
     "metadata": {
      "needs_background": "light"
     },
     "output_type": "display_data"
    }
   ],
   "source": [
    "cd = cdata.CelestialData(pp)\n",
    "ns_db = cd.get_nav_stars_db()\n",
    "\n",
    "date = [26,2,2021]\n",
    "time = [20,0,0]\n",
    "fi = [46,6.08,'N']\n",
    "la = [13,38.85,'E']\n",
    "h = 20.0\n",
    "pos = [nt.nav2dd(fi), nt.nav2dd(la), h]\n",
    "\n",
    "h0 = 20.0\n",
    "h1 = 80.0\n",
    "stars_vis = findVisibleStars(date, time, pos, h0, h1, ns_db)\n",
    "stars_vis.sort(key=lambda k : k['az'])\n",
    "\n",
    "i = 1\n",
    "data = []\n",
    "for star in stars_vis:\n",
    "    print('{:02d} - {:11s}  h = {:s}  {:s} = {:s}'.format(i,star['name'],nt.prettyPrintAlt(star['alt']), nt.u_omega, nt.prettyPrintAz(star['az'])))\n",
    "    data.append([star['az'],star['alt']])\n",
    "    i += 1\n",
    "    \n",
    "data = np.array(data)\n",
    "\n",
    "fig, ax = mpl.subplots()\n",
    "i = 1\n",
    "for da in data:\n",
    "    ax.plot(da[0], da[1], marker='*', markersize=3, color='red')\n",
    "    ax.text(da[0]-4, da[1]+1, '{:02d}'.format(i))\n",
    "    i += 1\n",
    "ax.grid()\n",
    "ax.set_xlabel('azimuth - $\\omega$[deg]')\n",
    "ax.set_ylabel('altitude - $h$[deg]')\n",
    "ax.set_xlim([-10, 410])\n",
    "ax.set_ylim([h0-5, h1+5])\n",
    "fig.tight_layout()\n",
    "fig.savefig('visible_stars.pdf')"
   ]
  },
  {
   "cell_type": "code",
   "execution_count": 8,
   "id": "1d265494",
   "metadata": {},
   "outputs": [
    {
     "data": {
      "text/plain": [
       "0"
      ]
     },
     "execution_count": 8,
     "metadata": {},
     "output_type": "execute_result"
    }
   ],
   "source": [
    "# generate latex document\n",
    "t = [date[2],date[1],date[0],time[0],time[1],time[2]]\n",
    "gha_a = cd.get_aries_gha(t)\n",
    "\n",
    "generateLatexInput(date,time,[fi,la],stars_vis,gha_a,h,h0,h1)\n",
    "os.system(\"rm -rf body.tex visible_stars.pdf *.aux *.out *.log\")"
   ]
  },
  {
   "cell_type": "code",
   "execution_count": null,
   "id": "26d6fd02-0c7a-4048-b8ea-d6d58fd98ea4",
   "metadata": {},
   "outputs": [],
   "source": []
  }
 ],
 "metadata": {
  "kernelspec": {
   "display_name": "AstroLab",
   "language": "python",
   "name": "astrolab"
  },
  "language_info": {
   "codemirror_mode": {
    "name": "ipython",
    "version": 3
   },
   "file_extension": ".py",
   "mimetype": "text/x-python",
   "name": "python",
   "nbconvert_exporter": "python",
   "pygments_lexer": "ipython3",
   "version": "3.10.2"
  }
 },
 "nbformat": 4,
 "nbformat_minor": 5
}
