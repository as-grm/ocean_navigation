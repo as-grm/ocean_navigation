{
 "cells": [
  {
   "cell_type": "markdown",
   "id": "copyrighted-cornell",
   "metadata": {},
   "source": [
    "# Ortodromski problem (Great circle)\n",
    "\n",
    "**author**: *aleksander.grm@fpp.uni-lj.si*,<br>\n",
    "**date**: 2022\n",
    "\n",
    "Pri analizi ortodromske plovbe ločimo v osnovi **dva** problema\n",
    "- določitev razdalje $D_O$, kurza odhoda $\\omega_0$ in položaja vrha $P_v$\n",
    "- določitev položajev medtočk $P_m$ za plovbo po vmesnih loksodromah\n",
    "\n",
    "Za oba problema si poglejmo izračun parametrov. V prvem primeru določimo vse parametre ortodrome in eno vmesno točko. V drugem primeru pa izračunamo vse vmesne točke in določimo razdaljo po loksodromah. Za oba primera še izrišemo potek plovbe.\n",
    "\n",
    "Položaje vnašama v obliki, kot je v navtiki dogovor \n",
    "\n",
    "$\\varphi = \\#\\#^\\circ \\, \\#\\#.\\#' \\, \\mathrm{N/S}$, $\\lambda = \\#\\#\\#^\\circ \\, \\#\\#.\\#' \\, \\mathrm{E/W}$, \n",
    "\n",
    "kjer imamo stopinje kot celo število in minute kot število na 1 decimalno mesto natančno.\n",
    "\n",
    "Format vnosa položaja:\n",
    "- LAT-$\\varphi$ in LONG-$\\lambda$ vnašamo v formatu [stopinje, minute, stran neba]\n",
    "\n",
    "Primer vnosa položaja:\n",
    "- $\\varphi$: [12, 34.5, 'N']\n",
    "- $\\lambda$: [117, 12.6, 'W']\n",
    "- stran neba mora biti v **enojnih navednicah**, kjer so dovoljeni znaki 'N', 'S', 'E', 'W'"
   ]
  },
  {
   "cell_type": "code",
   "execution_count": null,
   "id": "0fea7616-cb62-4dc1-95e7-12a71f3e04a0",
   "metadata": {},
   "outputs": [],
   "source": [
    "# Nalaganje paketi za izračun loksodromoske plovbe\n",
    "import os, sys\n",
    "\n",
    "# nav tools path\n",
    "sys.path.append('../nav_tools')\n",
    "\n",
    "# needed by basemap\n",
    "# os.environ['PROJ_LIB'] = '/opt/miniconda3/envs/python/share/proj'"
   ]
  },
  {
   "cell_type": "code",
   "execution_count": null,
   "id": "39ed9935-1e7c-4187-8797-422353f10b73",
   "metadata": {},
   "outputs": [],
   "source": [
    "import numpy as np\n",
    "import navtools as nt\n",
    "import rhumbline as rl\n",
    "import greatcircle as gc"
   ]
  },
  {
   "cell_type": "markdown",
   "id": "moderate-surveillance",
   "metadata": {},
   "source": [
    "### Primer 1"
   ]
  },
  {
   "cell_type": "code",
   "execution_count": null,
   "id": "incorporate-search",
   "metadata": {},
   "outputs": [],
   "source": [
    "# Položaj odhoda\n",
    "fi0 = [45,33.6,'N']\n",
    "la0 = [25,47.7,'E']\n",
    "P0 = [nt.nav2dd(fi0),nt.nav2dd(la0)]\n",
    "\n",
    "# Položaj prihoda\n",
    "fi1 = [37,17.8,'N']\n",
    "la1 = [102,27.4,'W']\n",
    "P1 = [nt.nav2dd(fi1),nt.nav2dd(la1)]\n",
    "\n",
    "# izračun 1.loksodromskega problema\n",
    "# točen izračun z uporabo Merkatorjeve širine\n",
    "[d_gc, w1_gc, Pv] = gc.getGCparameters(P0, P1)\n",
    "\n",
    "# izpis vhodov in rezultatov\n",
    "print('departure:',nt.getPositionString(P0))\n",
    "print('  arrival:',nt.getPositionString(P1))\n",
    "print('----------------')\n",
    "print('distance: {:.1f}Nm'.format(d_gc))\n",
    "print('  course: {:.2f}{:s}'.format(w1_gc,nt.arc_deg))\n",
    "print('  vertex:',nt.getPositionString(Pv))"
   ]
  },
  {
   "cell_type": "code",
   "execution_count": null,
   "id": "interstate-george",
   "metadata": {},
   "outputs": [],
   "source": [
    "# izračun posamezne medtočke\n",
    "la_md = nt.nav2dd([50,0,'W'])\n",
    "fi_md = gc.getMidPosition(P0,P1,la_md)\n",
    "print('midpoint:', nt.getPositionString([fi_md, la_md]))"
   ]
  },
  {
   "cell_type": "code",
   "execution_count": null,
   "id": "packed-asset",
   "metadata": {},
   "outputs": [],
   "source": [
    "# izris ortodrome\n",
    "P_gc = gc.getPathPoints(P0, P1)\n",
    "nt.plotGCPath(P_gc,Pv,5,10,'gc_path_01.pdf')"
   ]
  },
  {
   "cell_type": "code",
   "execution_count": null,
   "id": "assigned-salvation",
   "metadata": {},
   "outputs": [],
   "source": [
    "# izris ortodrome v loksodromah\n",
    "dla = 10 # vmesene točke na 5 stopinj\n",
    "P_gc = gc.getPathPoints(P0, P1, dla)\n",
    "nt.plotGCRLPath(P_gc,5,10,'gc_RL-path_01.pdf')\n",
    "\n",
    "print('p[{:02d}]: {:s}'.format(0, nt.getPositionString(P_gc[0])))\n",
    "d_sum = 0.0\n",
    "for i in range(1,P_gc.shape[0]):\n",
    "    [d, w] = rl.rhumbLineP1(P_gc[i-1], P_gc[i])\n",
    "    d_sum += d\n",
    "    print('p[{:02d}]: {:s}; ({:d}->{:d}) {:s}={:.1f}{:s}; d={:.1f}Nm'.\n",
    "          format(i, nt.getPositionString(P_gc[i]), i-1, i, nt.u_omega, w, nt.arc_deg,d))\n",
    "\n",
    "print()    \n",
    "print('distance-RL: {:.1f}Nm; diff: {:.1f}Nm'.format(d_sum, d_sum-d_gc))"
   ]
  },
  {
   "cell_type": "markdown",
   "id": "destroyed-bruce",
   "metadata": {},
   "source": [
    "### Primer 2"
   ]
  },
  {
   "cell_type": "code",
   "execution_count": null,
   "id": "noted-strip",
   "metadata": {},
   "outputs": [],
   "source": [
    "# Položaj odhoda\n",
    "fi0 = [50,55,'N']\n",
    "la0 = [7,32,'W']\n",
    "P0 = [nt.nav2dd(fi0),nt.nav2dd(la0)]\n",
    "\n",
    "# Položaj prihoda\n",
    "# fi1 = [42,26,'N']\n",
    "# la1 = [70,16,'W']\n",
    "fi1 = [45,45,'N']\n",
    "la1 = [53,24,'W']\n",
    "P1 = [nt.nav2dd(fi1),nt.nav2dd(la1)]\n",
    "\n",
    "# izračun 1.loksodromskega problema\n",
    "# točen izračun z uporabo Merkatorjeve širine\n",
    "[d_gc, w1_gc, Pv] = gc.getGCparameters(P0, P1)\n",
    "\n",
    "# izpis vhodov in rezultatov\n",
    "print('departure:',nt.getPositionString(P0))\n",
    "print('  arrival:',nt.getPositionString(P1))\n",
    "print('----------------')\n",
    "print('distance: {:.1f}Nm'.format(d_gc))\n",
    "print('  course: {:.2f}{:s}'.format(w1_gc,nt.arc_deg))\n",
    "print('  vertex:',nt.getPositionString(Pv))"
   ]
  },
  {
   "cell_type": "code",
   "execution_count": null,
   "id": "isolated-worry",
   "metadata": {},
   "outputs": [],
   "source": [
    "# izračun posamezne medtočke\n",
    "la_md = nt.nav2dd([45,34.2,'W'])\n",
    "fi_md = gc.getMidPosition(P0,P1,la_md)\n",
    "print('midpoint:', nt.getPositionString([fi_md, la_md]))"
   ]
  },
  {
   "cell_type": "code",
   "execution_count": null,
   "id": "possible-roommate",
   "metadata": {},
   "outputs": [],
   "source": [
    "# izris ortodrome\n",
    "P_gc = gc.getPathPoints(P0, P1)\n",
    "nt.plotGCPath(P_gc,Pv,5,10,'gc_path_02.pdf')"
   ]
  },
  {
   "cell_type": "code",
   "execution_count": null,
   "id": "nonprofit-quebec",
   "metadata": {},
   "outputs": [],
   "source": [
    "# izris ortodrome v loksodromah\n",
    "dla = 10 # vmesene točke na 10 stopinj\n",
    "P_gc = gc.getPathPoints(P0, P1, dla)\n",
    "nt.plotGCRLPath(P_gc,5,10,'gc_RL-path_02.pdf')\n",
    "\n",
    "print('p[{:02d}]: {:s}'.format(0, nt.getPositionString(P_gc[0])))\n",
    "d_sum = 0.0\n",
    "for i in range(1,P_gc.shape[0]):\n",
    "    [d, w] = rl.rhumbLineP1(P_gc[i-1], P_gc[i])\n",
    "    d_sum += d\n",
    "    print('p[{:02d}]: {:s}; {:s}={:.1f}{:s}; d={:.1f}Nm'.\n",
    "          format(i, nt.getPositionString(P_gc[i]), nt.u_omega, w, nt.arc_deg,d))\n",
    "\n",
    "print()    \n",
    "print('distance-RL: {:.1f}Nm; diff: {:.1f}Nm'.format(d_sum, d_sum-d_gc))"
   ]
  },
  {
   "cell_type": "markdown",
   "id": "18e2bdbe-e3b9-4d65-9ab4-45645395317f",
   "metadata": {},
   "source": [
    "### Primer 3\n",
    "\n",
    "Check in the opposite direction"
   ]
  },
  {
   "cell_type": "code",
   "execution_count": null,
   "id": "33efe565-023d-44c9-ab4e-55d9e91e31d5",
   "metadata": {},
   "outputs": [],
   "source": [
    "# Položaj odhoda\n",
    "fi0 = [45,45,'N']\n",
    "la0 = [53,24,'W']\n",
    "P0 = [nt.nav2dd(fi0),nt.nav2dd(la0)]\n",
    "\n",
    "# Položaj prihoda\n",
    "fi1 = [50,55,'N']\n",
    "la1 = [7,32,'W']\n",
    "P1 = [nt.nav2dd(fi1),nt.nav2dd(la1)]"
   ]
  },
  {
   "cell_type": "code",
   "execution_count": null,
   "id": "246aba48-765d-419f-befe-6c7a31fc0a5b",
   "metadata": {},
   "outputs": [],
   "source": [
    "# izris ortodrome\n",
    "P_gc = gc.getPathPoints(P0, P1)\n",
    "nt.plotGCPath(P_gc,Pv,5,10,'gc_path_03.pdf')"
   ]
  },
  {
   "cell_type": "code",
   "execution_count": null,
   "id": "ecbc5d40-4595-4712-8a05-99c576ccc13c",
   "metadata": {},
   "outputs": [],
   "source": [
    "# izris ortodrome v loksodromah\n",
    "dla = 5 # vmesene točke na 10 stopinj\n",
    "P_gc = gc.getPathPoints(P0, P1, dla)\n",
    "nt.plotGCRLPath(P_gc,5,10,'gc_RL-path_03.pdf')\n",
    "\n",
    "print('p[{:02d}]: {:s}'.format(0, nt.getPositionString(P_gc[0])))\n",
    "d_sum = 0.0\n",
    "for i in range(1,P_gc.shape[0]):\n",
    "    [d, w] = rl.rhumbLineP1(P_gc[i-1], P_gc[i])\n",
    "    d_sum += d\n",
    "    print('p[{:02d}]: {:s}; {:s}={:.1f}{:s}; d={:.1f}Nm'.\n",
    "          format(i, nt.getPositionString(P_gc[i]), nt.u_omega, w, nt.arc_deg,d))\n",
    "\n",
    "print()    \n",
    "print('distance-RL: {:.1f}Nm; diff: {:.1f}Nm'.format(d_sum, d_sum-d_gc))"
   ]
  },
  {
   "cell_type": "markdown",
   "id": "international-james",
   "metadata": {},
   "source": [
    "### Primer 4\n",
    "\n",
    "Check for the Equator crossing."
   ]
  },
  {
   "cell_type": "code",
   "execution_count": null,
   "id": "norman-aurora",
   "metadata": {},
   "outputs": [],
   "source": [
    "# Položaj odhoda\n",
    "fi0 = [32,33.6,'N']\n",
    "la0 = [13,34.8,'W']\n",
    "P0 = [nt.nav2dd(fi0),nt.nav2dd(la0)]\n",
    "\n",
    "# Položaj prihoda\n",
    "fi1 = [63,24.5,'S']\n",
    "la1 = [72,22.3,'W']\n",
    "P1 = [nt.nav2dd(fi1),nt.nav2dd(la1)]\n",
    "\n",
    "# izračun 1.loksodromskega problema\n",
    "# točen izračun z uporabo Merkatorjeve širine\n",
    "[d_gc, w1_gc, Pv] = gc.getGCparameters(P0, P1)\n",
    "\n",
    "# izpis vhodov in rezultatov\n",
    "print('departure:',nt.getPositionString(P0))\n",
    "print('  arrival:',nt.getPositionString(P1))\n",
    "print('----------------')\n",
    "print('distance: {:.1f}Nm'.format(d_gc))\n",
    "print('  course: {:.2f}{:s}'.format(w1_gc,nt.arc_deg))\n",
    "print('  vertex:',nt.getPositionString(Pv))"
   ]
  },
  {
   "cell_type": "code",
   "execution_count": null,
   "id": "postal-interstate",
   "metadata": {},
   "outputs": [],
   "source": [
    "# izračun posamezne medtočke\n",
    "la_md = nt.nav2dd([45,34.2,'W'])\n",
    "fi_md = gc.getMidPosition(P0,P1,la_md)\n",
    "print('midpoint:', nt.getPositionString([fi_md, la_md]))"
   ]
  },
  {
   "cell_type": "code",
   "execution_count": null,
   "id": "national-mixer",
   "metadata": {},
   "outputs": [],
   "source": [
    "# izris ortodrome\n",
    "P_gc = gc.getPathPoints(P0, P1)\n",
    "nt.plotGCPath(P_gc,Pv,10,20,'gc_path_04.pdf')"
   ]
  },
  {
   "cell_type": "code",
   "execution_count": null,
   "id": "sought-sellers",
   "metadata": {},
   "outputs": [],
   "source": [
    "# izris ortodrome v loksodromah\n",
    "dla = 10 # vmesene točke na 5 stopinj\n",
    "P_gc = gc.getPathPoints(P0, P1, dla)\n",
    "nt.plotGCRLPath(P_gc,10,20,'gc_RL-path_04.pdf')\n",
    "\n",
    "print('p[{:02d}]: {:s}'.format(0, nt.getPositionString(P_gc[0])))\n",
    "d_sum = 0.0\n",
    "for i in range(1,P_gc.shape[0]):\n",
    "    [d, w] = rl.rhumbLineP1(P_gc[i-1], P_gc[i])\n",
    "    d_sum += d\n",
    "    print('p[{:02d}]: {:s}; {:s}={:.1f}{:s}; d={:.1f}Nm'.\n",
    "          format(i, nt.getPositionString(P_gc[i]), nt.u_omega, w, nt.arc_deg,d))\n",
    "\n",
    "print()    \n",
    "print('distance-RL: {:.1f}Nm; diff: {:.1f}Nm'.format(d_sum, d_sum-d_gc))"
   ]
  }
 ],
 "metadata": {
  "kernelspec": {
   "display_name": "Python 3 (default)",
   "language": "python",
   "name": "python3"
  },
  "language_info": {
   "codemirror_mode": {
    "name": "ipython",
    "version": 3
   },
   "file_extension": ".py",
   "mimetype": "text/x-python",
   "name": "python",
   "nbconvert_exporter": "python",
   "pygments_lexer": "ipython3",
   "version": "3.11.4"
  }
 },
 "nbformat": 4,
 "nbformat_minor": 5
}
