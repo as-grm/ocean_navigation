{
 "cells": [
  {
   "cell_type": "markdown",
   "id": "compact-update",
   "metadata": {},
   "source": [
    "# Loksodromski problem (Rhumb Line)\n",
    "\n",
    "**author**: *aleksander.grm@fpp.uni-lj.si*,<br>\n",
    "**date**: 2022\n",
    "\n",
    "Pri analizi loksodromske plovbe ločimo v osnovi **dva** problema\n",
    "- določitev razdalje $D_L$ in kurza odhoda $\\omega_L$\n",
    "- določitev položaja prihoda $P_1=(\\varphi_1,\\lambda_1)$\n",
    "\n",
    "Za oba problema si poglejmo izračun parametrov. Izračuni potekajo z uporabo **Merkatorjeve srednje širine** $\\tilde{\\varphi}$, kar pomeni, da so izračuni natančni na Zemlji popisani kot sferične oblike. Za določitev na *WGS84* elipsoidu je potrebno narediti popravke za Merkatorjevo širino. Popravki so zanemarljivi, zato ponavadi vedno računamo z uporabo sfere kot približkom zemeljske oble!\n",
    "\n",
    "Položaje vnašama v obliki, kot je v navtiki dogovor \n",
    "\n",
    "$\\varphi = \\#\\#^\\circ \\, \\#\\#.\\#' \\, \\mathrm{N/S}$, $\\lambda = \\#\\#\\#^\\circ \\, \\#\\#.\\#' \\, \\mathrm{E/W}$, \n",
    "\n",
    "kjer imamo stopinje kot celo število in minute kot število na 1 decimalno mesto natančno.\n",
    "\n",
    "Format vnosa položaja:\n",
    "- LAT-$\\varphi$ in LONG-$\\lambda$ vnašamo v formatu [stopinje, minute, stran neba]\n",
    "\n",
    "Primer vnosa položaja:\n",
    "- $\\varphi$: [12, 34.5, 'N']\n",
    "- $\\lambda$: [117, 12.6, 'W']\n",
    "- stran neba mora biti v **enojnih navednicah**, kjer so dovoljeni znaki 'N', 'S', 'E', 'W'"
   ]
  },
  {
   "cell_type": "code",
   "execution_count": null,
   "id": "b55399f7-83e0-4398-b690-e3ebd4e3e537",
   "metadata": {},
   "outputs": [],
   "source": [
    "# Nalaganje paketi za izračun loksodromoske plovbe\n",
    "import os, sys\n",
    "\n",
    "# nav tools path\n",
    "sys.path.append('../nav_tools')\n",
    "\n",
    "# needed by basemap\n",
    "# os.environ['PROJ_LIB'] = '/opt/miniconda3/envs/python/share/proj'"
   ]
  },
  {
   "cell_type": "code",
   "execution_count": null,
   "id": "cd1307b4-3521-4735-b370-817e1b5ec3c9",
   "metadata": {},
   "outputs": [],
   "source": [
    "import navtools as nt\n",
    "import rhumbline as rl"
   ]
  },
  {
   "cell_type": "markdown",
   "id": "indirect-comfort",
   "metadata": {},
   "source": [
    "## Prvi loksodromski problem\n",
    "\n",
    "Imamo podan položaj odhoda (departure) $P_0=(\\varphi_0, \\lambda_0)$ in položaj prihoda (arrival) $P_1=(\\varphi_1, \\lambda_1)$. Potrebno je določiti loksodromsko razdaljo $D_L$ in loksodromski kurz $\\omega_L$ med $P_0$ in $P_1$.\n",
    "\n",
    "**Inputs**\n",
    "\n",
    "- $P_0=(\\varphi_0, \\lambda_0)$ - položaj odhoda\n",
    "- $P_1=(\\varphi_1, \\lambda_1)$ - položaj prihoda\n",
    "\n",
    "**Outputs**\n",
    "\n",
    "- $D_L$ - loksodromska razdalja v navtičnih miljah $[\\mathrm{Nm}]$\n",
    "- $\\omega_L$ - loksodromski kurz v stopinjah $[^\\circ]$"
   ]
  },
  {
   "cell_type": "code",
   "execution_count": null,
   "id": "wrapped-europe",
   "metadata": {},
   "outputs": [],
   "source": [
    "# Položaj odhoda\n",
    "fi0 = [35,30,'N']\n",
    "la0 = [9,30,'W']\n",
    "P0 = [nt.nav2dd(fi0),nt.nav2dd(la0)]\n",
    "\n",
    "# Položaj prihoda\n",
    "fi1 = [37,10,'N']\n",
    "la1 = [75,45,'W']\n",
    "P1 = [nt.nav2dd(fi1),nt.nav2dd(la1)]\n",
    "\n",
    "# izračun 1.loksodromskega problema\n",
    "# točen izračun z uporabo Merkatorjeve širine\n",
    "[d, w] = rl.rhumbLineP1(P0, P1)\n",
    "\n",
    "# izpis vhodov in rezultatov\n",
    "print('departure:',nt.getPositionString(P0))\n",
    "print('  arrival:',nt.getPositionString(P1))\n",
    "print('----------------')\n",
    "print('distance: {:.1f}Nm'.format(d))\n",
    "print('  course: {:.2f}{:s}'.format(w,nt.arc_deg))"
   ]
  },
  {
   "cell_type": "code",
   "execution_count": null,
   "id": "spare-emperor",
   "metadata": {},
   "outputs": [],
   "source": [
    "# izris položajev na Merkatorjevi karti\n",
    "pts = nt.position2array([P0,P1])\n",
    "nt.plotRLPath(pts, 5, 10, 'rhumb_line_01.pdf')"
   ]
  },
  {
   "cell_type": "markdown",
   "id": "endangered-separation",
   "metadata": {},
   "source": [
    "<hr>"
   ]
  },
  {
   "cell_type": "markdown",
   "id": "resistant-chassis",
   "metadata": {},
   "source": [
    "## Drugi loksodromski problem\n",
    "\n",
    "Imamo podan položaj odhoda (departure) $P_0=(\\varphi_0, \\lambda_0)$ in loksodromsko razdaljo $D_L$ in loksodromski kurz $\\omega_L$ med $P_0$ in $P_1$. Potrebno je določiti položaj prihoda (arrival) $P_1=(\\varphi_1, \\lambda_1)$.\n",
    "\n",
    "**Inputs**\n",
    "\n",
    "- $P_0=(\\varphi_0, \\lambda_0)$ - položaj odhoda\n",
    "- $D_L$ - loksodromska razdalja v navtičnih miljah $[\\mathrm{Nm}]$\n",
    "- $\\omega_L$ - loksodromski kurz v stopinjah $[^\\circ]$\n",
    "\n",
    "**Outputs**\n",
    "\n",
    "- $P_1=(\\varphi_1, \\lambda_1)$ - položaj prihoda"
   ]
  },
  {
   "cell_type": "code",
   "execution_count": null,
   "id": "hollow-design",
   "metadata": {},
   "outputs": [],
   "source": [
    "# položaj odhoda fi,la=[+/-deg,min]\n",
    "fi0 = [36,1.6,'N']\n",
    "la0 = [6,34.8,'W']\n",
    "P0 = [nt.nav2dd(fi0),nt.nav2dd(la0)]\n",
    "\n",
    "# loksodromska distanca in kurz\n",
    "dL = 3158.0 # Nm\n",
    "wL =  275.0 # deg\n",
    "\n",
    "# izračun 2.loksodromskega problema\n",
    "# točen izračun z uporabo Merkatorjeve širine\n",
    "[fi1, la1] = rl.rhumbLineP2(P0, dL, wL)\n",
    "#[fi1, la1] = rl.rhumbLineP2(P0, d, w)\n",
    "P1 = [fi1,la1]\n",
    "\n",
    "# izpis vhodov in rezultatov\n",
    "print('departure:',nt.getPositionString(P0))\n",
    "print(' distance: {:.1f}Nm'.format(dL))\n",
    "print('   course: {:.2f}{:s}'.format(wL,nt.arc_deg))\n",
    "print('----------------')\n",
    "print('  arrival:',nt.getPositionString(P1))"
   ]
  },
  {
   "cell_type": "code",
   "execution_count": null,
   "id": "15fb992c-9984-4076-aebc-7f3985fdfed3",
   "metadata": {},
   "outputs": [],
   "source": [
    "# Položaj odhoda\n",
    "fi0 = [41,0,'N']\n",
    "la0 = [14,0,'E']\n",
    "P0 = [nt.nav2dd(fi0),nt.nav2dd(la0)]\n",
    "\n",
    "# Položaj prihoda\n",
    "fi1 = [41,0,'N']\n",
    "la1 = [73,0,'W']\n",
    "P1 = [nt.nav2dd(fi1),nt.nav2dd(la1)]\n",
    "\n",
    "# izračun 1.loksodromskega problema\n",
    "# točen izračun z uporabo Merkatorjeve širine\n",
    "[d, w] = rl.rhumbLineP1(P0, P1)\n",
    "\n",
    "# izpis vhodov in rezultatov\n",
    "print('departure:',nt.getPositionString(P0))\n",
    "print('  arrival:',nt.getPositionString(P1))\n",
    "print('----------------')\n",
    "print('distance: {:.1f}Nm'.format(d))\n",
    "print('  course: {:.2f}{:s}'.format(w,nt.arc_deg))"
   ]
  },
  {
   "cell_type": "code",
   "execution_count": null,
   "id": "93576c7e-c69e-44fd-a1fe-eefb7d853839",
   "metadata": {},
   "outputs": [],
   "source": [
    "# izris položajev na Merkatorjevi karti\n",
    "pts = nt.position2array([P0,P1])\n",
    "nt.plotRLPath(pts, 5, 10, 'rhumb_line_01.pdf')"
   ]
  }
 ],
 "metadata": {
  "kernelspec": {
   "display_name": "Python 3 (default)",
   "language": "python",
   "name": "python3"
  },
  "language_info": {
   "codemirror_mode": {
    "name": "ipython",
    "version": 3
   },
   "file_extension": ".py",
   "mimetype": "text/x-python",
   "name": "python",
   "nbconvert_exporter": "python",
   "pygments_lexer": "ipython3",
   "version": "3.11.4"
  }
 },
 "nbformat": 4,
 "nbformat_minor": 5
}
