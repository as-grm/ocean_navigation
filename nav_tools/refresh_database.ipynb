{
 "cells": [
  {
   "cell_type": "code",
   "execution_count": null,
   "id": "d689ebff-7c2d-4954-82dc-85ba858bce1b",
   "metadata": {},
   "outputs": [],
   "source": [
    "from astropy.time import Time\n",
    "import astropy.utils.data as aud\n",
    "\n",
    "Time.now().ut1  \n",
    "aud.export_download_cache(\"./finals2000A.all\", overwrite=True)"
   ]
  }
 ],
 "metadata": {
  "kernelspec": {
   "display_name": "Python 3 (default)",
   "language": "python",
   "name": "python3"
  },
  "language_info": {
   "codemirror_mode": {
    "name": "ipython",
    "version": 3
   },
   "file_extension": ".py",
   "mimetype": "text/x-python",
   "name": "python",
   "nbconvert_exporter": "python",
   "pygments_lexer": "ipython3",
   "version": "3.11.4"
  }
 },
 "nbformat": 4,
 "nbformat_minor": 5
}
